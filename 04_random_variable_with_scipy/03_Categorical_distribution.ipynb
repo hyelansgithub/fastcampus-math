{
 "cells": [
  {
   "cell_type": "markdown",
   "metadata": {},
   "source": [
    "# 4. Scipy로 공부하는 확률 변수\n",
    "\n",
    "## 01장. 이산 확률 분포\n",
    "\n",
    "## 3. 카테고리 분포"
   ]
  },
  {
   "cell_type": "code",
   "execution_count": 20,
   "metadata": {},
   "outputs": [],
   "source": [
    "import scipy as sp\n",
    "import numpy as np\n",
    "import pandas as pd\n",
    "import matplotlib.pylab as plt\n",
    "import seaborn as sns\n",
    "import matplotlib as mpl\n",
    "from scipy import stats"
   ]
  },
  {
   "cell_type": "code",
   "execution_count": 21,
   "metadata": {},
   "outputs": [
    {
     "name": "stdout",
     "output_type": "stream",
     "text": [
      "AppleGothic\n"
     ]
    }
   ],
   "source": [
    "mpl.rcParams[\"font.family\"]\n",
    "mpl.matplotlib_fname()\n",
    "import matplotlib.font_manager as fm\n",
    "font_location = \"/Library/Fonts/AppleGothic.ttf\"\n",
    "font_name = fm.FontProperties(fname=font_location).get_name()\n",
    "print(font_name)\n",
    "mpl.rc('font', family=font_name)"
   ]
  },
  {
   "cell_type": "markdown",
   "metadata": {},
   "source": [
    "- - -\n",
    "### 1. 카테고리 분포\n",
    "\n",
    "- 베르누이 분포 : 0, 1 둘 중에 하나가 나오는 확률 변수의 분포\n",
    "- 카테고리 분포 : 1~K 까지의 정수값 중 하나가 나오는 확률 변수의 분포\n",
    "\n",
    "- 1~K 까지의 정수를 스칼라 값으로 넣는 것이 아니라 one-hot-encoding 방식을 이용해 벡터로 변환 한 후에 변수로 넣게 된다.\n",
    "\n",
    "- x = 1는 x = (1 0 0 0 0 0) 처럼 변환 된 벡터의 각 요소는 0,1중 하나만 가지는 베르누이 변수의 특성을 가지고 벡터 요소의 총합은 1이라는 조건을 가진다.\n",
    "\n",
    "- 벡터 x의 각 요소들이 1이 나올 확률을 theta로 가지게 되고 카테고리 갯수만큼 theta값을 가지게 된다. theta는 0부터 1까지의 값을 부여 할 수 있고 총 합은 1이여야 한다.\n",
    "\n",
    "- K개의 theta값을 설정하면서 각 변수 x가 나올 확률을 배정하는 효과를 지닌다."
   ]
  },
  {
   "cell_type": "code",
   "execution_count": 15,
   "metadata": {},
   "outputs": [
    {
     "data": {
      "text/latex": [
       "x와 theta 값은 벡터로 이루어져 있다.\n",
       "$Cat(x_{1},x_{2},...,x_{k};\\theta_{1},\\theta_{2},...,\\theta{k})$= $Cat(x;\\theta)$"
      ],
      "text/plain": [
       "<IPython.core.display.Latex object>"
      ]
     },
     "metadata": {},
     "output_type": "display_data"
    }
   ],
   "source": [
    "%%latex\n",
    "x와 theta 값은 벡터로 이루어져 있다.\n",
    "$Cat(x_{1},x_{2},...,x_{k};\\theta_{1},\\theta_{2},...,\\theta{k})$= $Cat(x;\\theta)$"
   ]
  },
  {
   "cell_type": "markdown",
   "metadata": {},
   "source": [
    "- - -\n",
    "### 2. 카테고리 분포의 모멘트\n",
    "\n",
    "- 카테고리 분포는 표본값이 벡터이므로 기댓값과 분산도 벡터이다."
   ]
  },
  {
   "cell_type": "code",
   "execution_count": 17,
   "metadata": {},
   "outputs": [
    {
     "data": {
      "text/latex": [
       "기댓값 : $E[x_{k}=\\theta_{k}]$, 분산 : $Var[x_{k}=\\theta_{k}(1-\\theta_{k})]$"
      ],
      "text/plain": [
       "<IPython.core.display.Latex object>"
      ]
     },
     "metadata": {},
     "output_type": "display_data"
    }
   ],
   "source": [
    "%%latex\n",
    "기댓값 : $E[x_{k}=\\theta_{k}]$, 분산 : $Var[x_{k}=\\theta_{k}(1-\\theta_{k})]$"
   ]
  },
  {
   "cell_type": "markdown",
   "metadata": {},
   "source": [
    "- - -\n",
    "### 3. Scipy를 이용한 카테고리 분포의 시뮬레이션\n",
    "- 카테고리 분포의 클래스 따로 존재하지 않고 다항분포 클래스 `multinomial` 사용하고 횟수를 1로 해준다."
   ]
  },
  {
   "cell_type": "code",
   "execution_count": 32,
   "metadata": {},
   "outputs": [],
   "source": [
    "# Fair한 주사위 만들어보기\n",
    "\n",
    "# 카테고리 분포의 객체를 생성한다.\n",
    "# theta를 벡터로 만든다.\n",
    "# multinomial 함수의 횟수 1회와 theta값을 넣어서 각 카테고리 값이 선택 될 확률을 정한다.\n",
    "theta = np.array([1/6]*6)\n",
    "theta\n",
    "rv = sp.stats.multinomial(1, theta)"
   ]
  },
  {
   "cell_type": "code",
   "execution_count": 33,
   "metadata": {
    "scrolled": true
   },
   "outputs": [
    {
     "data": {
      "text/html": [
       "<div>\n",
       "<style scoped>\n",
       "    .dataframe tbody tr th:only-of-type {\n",
       "        vertical-align: middle;\n",
       "    }\n",
       "\n",
       "    .dataframe tbody tr th {\n",
       "        vertical-align: top;\n",
       "    }\n",
       "\n",
       "    .dataframe thead th {\n",
       "        text-align: right;\n",
       "    }\n",
       "</style>\n",
       "<table border=\"1\" class=\"dataframe\">\n",
       "  <thead>\n",
       "    <tr style=\"text-align: right;\">\n",
       "      <th></th>\n",
       "      <th>1</th>\n",
       "      <th>2</th>\n",
       "      <th>3</th>\n",
       "      <th>4</th>\n",
       "      <th>5</th>\n",
       "      <th>6</th>\n",
       "    </tr>\n",
       "  </thead>\n",
       "  <tbody>\n",
       "    <tr>\n",
       "      <th>0</th>\n",
       "      <td>1</td>\n",
       "      <td>0</td>\n",
       "      <td>0</td>\n",
       "      <td>0</td>\n",
       "      <td>0</td>\n",
       "      <td>0</td>\n",
       "    </tr>\n",
       "    <tr>\n",
       "      <th>1</th>\n",
       "      <td>0</td>\n",
       "      <td>1</td>\n",
       "      <td>0</td>\n",
       "      <td>0</td>\n",
       "      <td>0</td>\n",
       "      <td>0</td>\n",
       "    </tr>\n",
       "    <tr>\n",
       "      <th>2</th>\n",
       "      <td>0</td>\n",
       "      <td>0</td>\n",
       "      <td>1</td>\n",
       "      <td>0</td>\n",
       "      <td>0</td>\n",
       "      <td>0</td>\n",
       "    </tr>\n",
       "    <tr>\n",
       "      <th>3</th>\n",
       "      <td>0</td>\n",
       "      <td>0</td>\n",
       "      <td>0</td>\n",
       "      <td>1</td>\n",
       "      <td>0</td>\n",
       "      <td>0</td>\n",
       "    </tr>\n",
       "    <tr>\n",
       "      <th>4</th>\n",
       "      <td>0</td>\n",
       "      <td>0</td>\n",
       "      <td>0</td>\n",
       "      <td>0</td>\n",
       "      <td>1</td>\n",
       "      <td>0</td>\n",
       "    </tr>\n",
       "    <tr>\n",
       "      <th>5</th>\n",
       "      <td>0</td>\n",
       "      <td>0</td>\n",
       "      <td>0</td>\n",
       "      <td>0</td>\n",
       "      <td>0</td>\n",
       "      <td>1</td>\n",
       "    </tr>\n",
       "  </tbody>\n",
       "</table>\n",
       "</div>"
      ],
      "text/plain": [
       "   1  2  3  4  5  6\n",
       "0  1  0  0  0  0  0\n",
       "1  0  1  0  0  0  0\n",
       "2  0  0  1  0  0  0\n",
       "3  0  0  0  1  0  0\n",
       "4  0  0  0  0  1  0\n",
       "5  0  0  0  0  0  1"
      ]
     },
     "execution_count": 33,
     "metadata": {},
     "output_type": "execute_result"
    }
   ],
   "source": [
    "# one hot encoding 해준다. 1~6까지 나오게 해준다.\n",
    "xx = np.arange(1,7)\n",
    "xx_ohe = pd.get_dummies(xx)\n",
    "xx_ohe"
   ]
  },
  {
   "cell_type": "code",
   "execution_count": 34,
   "metadata": {},
   "outputs": [
    {
     "data": {
      "image/png": "[encoded data removed]",
      "text/plain": [
       "<Figure size 432x288 with 1 Axes>"
      ]
     },
     "metadata": {},
     "output_type": "display_data"
    }
   ],
   "source": [
    "# 카테고리 분포의 pmf 그리기\n",
    "plt.bar(xx,rv.pmf(xx_ohe))\n",
    "plt.ylabel(\"P(x)\")\n",
    "plt.title(\"카테고리 분포의 pmf\")\n",
    "plt.show()"
   ]
  },
  {
   "cell_type": "markdown",
   "metadata": {},
   "source": [
    "Fair한 주사위의 카테고리 분포는 모두 동일한 모습을 보인다."
   ]
  },
  {
   "cell_type": "markdown",
   "metadata": {},
   "source": [
    "- - -"
   ]
  },
  {
   "cell_type": "code",
   "execution_count": 35,
   "metadata": {},
   "outputs": [
    {
     "data": {
      "text/plain": [
       "array([[0, 0, 0, 0, 0, 1],\n",
       "       [0, 0, 0, 0, 1, 0],\n",
       "       [0, 0, 0, 1, 0, 0],\n",
       "       [0, 0, 0, 0, 0, 1],\n",
       "       [0, 1, 0, 0, 0, 0]])"
      ]
     },
     "execution_count": 35,
     "metadata": {},
     "output_type": "execute_result"
    }
   ],
   "source": [
    "# 직접 시뮬레이션 해보자\n",
    "np.random.seed(1)\n",
    "X = rv.rvs(100)\n",
    "X[:5]"
   ]
  },
  {
   "cell_type": "code",
   "execution_count": 37,
   "metadata": {},
   "outputs": [
    {
     "data": {
      "image/png": "[encoded data removed]",
      "text/plain": [
       "<Figure size 432x288 with 1 Axes>"
      ]
     },
     "metadata": {},
     "output_type": "display_data"
    }
   ],
   "source": [
    "# 시뮬레이션 한 값을 plot으로 나타내보기\n",
    "\n",
    "y = X.sum(axis=0) / float(len(X))\n",
    "plt.bar(np.arange(1,7), y)\n",
    "plt.title(\"카테고리 분포의 시뮬레이션\")\n",
    "plt.xlabel(\"표본값\")\n",
    "plt.show()"
   ]
  },
  {
   "cell_type": "markdown",
   "metadata": {},
   "source": [
    "- - -"
   ]
  },
  {
   "cell_type": "code",
   "execution_count": 38,
   "metadata": {},
   "outputs": [],
   "source": [
    "# 카테고리 분포의 이상적인 분포와 시뮬레이션 분포를 비교해보자"
   ]
  },
  {
   "cell_type": "code",
   "execution_count": 39,
   "metadata": {},
   "outputs": [
    {
     "data": {
      "text/html": [
       "<div>\n",
       "<style scoped>\n",
       "    .dataframe tbody tr th:only-of-type {\n",
       "        vertical-align: middle;\n",
       "    }\n",
       "\n",
       "    .dataframe tbody tr th {\n",
       "        vertical-align: top;\n",
       "    }\n",
       "\n",
       "    .dataframe thead th {\n",
       "        text-align: right;\n",
       "    }\n",
       "</style>\n",
       "<table border=\"1\" class=\"dataframe\">\n",
       "  <thead>\n",
       "    <tr style=\"text-align: right;\">\n",
       "      <th></th>\n",
       "      <th>표본값</th>\n",
       "      <th>유형</th>\n",
       "      <th>비율</th>\n",
       "    </tr>\n",
       "  </thead>\n",
       "  <tbody>\n",
       "    <tr>\n",
       "      <th>0</th>\n",
       "      <td>1</td>\n",
       "      <td>시뮬레이션</td>\n",
       "      <td>0.180000</td>\n",
       "    </tr>\n",
       "    <tr>\n",
       "      <th>1</th>\n",
       "      <td>1</td>\n",
       "      <td>이론</td>\n",
       "      <td>0.166667</td>\n",
       "    </tr>\n",
       "    <tr>\n",
       "      <th>2</th>\n",
       "      <td>2</td>\n",
       "      <td>시뮬레이션</td>\n",
       "      <td>0.210000</td>\n",
       "    </tr>\n",
       "    <tr>\n",
       "      <th>3</th>\n",
       "      <td>2</td>\n",
       "      <td>이론</td>\n",
       "      <td>0.166667</td>\n",
       "    </tr>\n",
       "    <tr>\n",
       "      <th>4</th>\n",
       "      <td>3</td>\n",
       "      <td>시뮬레이션</td>\n",
       "      <td>0.180000</td>\n",
       "    </tr>\n",
       "    <tr>\n",
       "      <th>5</th>\n",
       "      <td>3</td>\n",
       "      <td>이론</td>\n",
       "      <td>0.166667</td>\n",
       "    </tr>\n",
       "    <tr>\n",
       "      <th>6</th>\n",
       "      <td>4</td>\n",
       "      <td>시뮬레이션</td>\n",
       "      <td>0.180000</td>\n",
       "    </tr>\n",
       "    <tr>\n",
       "      <th>7</th>\n",
       "      <td>4</td>\n",
       "      <td>이론</td>\n",
       "      <td>0.166667</td>\n",
       "    </tr>\n",
       "    <tr>\n",
       "      <th>8</th>\n",
       "      <td>5</td>\n",
       "      <td>시뮬레이션</td>\n",
       "      <td>0.150000</td>\n",
       "    </tr>\n",
       "    <tr>\n",
       "      <th>9</th>\n",
       "      <td>5</td>\n",
       "      <td>이론</td>\n",
       "      <td>0.166667</td>\n",
       "    </tr>\n",
       "    <tr>\n",
       "      <th>10</th>\n",
       "      <td>6</td>\n",
       "      <td>시뮬레이션</td>\n",
       "      <td>0.100000</td>\n",
       "    </tr>\n",
       "    <tr>\n",
       "      <th>11</th>\n",
       "      <td>6</td>\n",
       "      <td>이론</td>\n",
       "      <td>0.166667</td>\n",
       "    </tr>\n",
       "  </tbody>\n",
       "</table>\n",
       "</div>"
      ],
      "text/plain": [
       "    표본값     유형        비율\n",
       "0     1  시뮬레이션  0.180000\n",
       "1     1     이론  0.166667\n",
       "2     2  시뮬레이션  0.210000\n",
       "3     2     이론  0.166667\n",
       "4     3  시뮬레이션  0.180000\n",
       "5     3     이론  0.166667\n",
       "6     4  시뮬레이션  0.180000\n",
       "7     4     이론  0.166667\n",
       "8     5  시뮬레이션  0.150000\n",
       "9     5     이론  0.166667\n",
       "10    6  시뮬레이션  0.100000\n",
       "11    6     이론  0.166667"
      ]
     },
     "execution_count": 39,
     "metadata": {},
     "output_type": "execute_result"
    }
   ],
   "source": [
    "df = pd.DataFrame({\"이론\": rv.pmf(xx_ohe), \"시뮬레이션\": y}, index=np.arange(1, 7)).stack()\n",
    "df = df.reset_index()\n",
    "df.columns = [\"표본값\", \"유형\", \"비율\"]\n",
    "df.pivot(\"표본값\", \"유형\", \"비율\")\n",
    "df"
   ]
  },
  {
   "cell_type": "code",
   "execution_count": 40,
   "metadata": {},
   "outputs": [
    {
     "data": {
      "image/png": "[encoded data removed]",
      "text/plain": [
       "<Figure size 432x288 with 1 Axes>"
      ]
     },
     "metadata": {},
     "output_type": "display_data"
    }
   ],
   "source": [
    "sns.barplot(x=\"표본값\", y=\"비율\", hue=\"유형\", data=df)\n",
    "plt.show()"
   ]
  },
  {
   "cell_type": "markdown",
   "metadata": {},
   "source": [
    "- - -\n",
    "θ를 다른 값으로 실행"
   ]
  },
  {
   "cell_type": "code",
   "execution_count": 41,
   "metadata": {},
   "outputs": [
    {
     "data": {
      "image/png": "[encoded data removed]",
      "text/plain": [
       "<Figure size 432x288 with 1 Axes>"
      ]
     },
     "metadata": {},
     "output_type": "display_data"
    }
   ],
   "source": [
    "eps = np.finfo(np.float).eps\n",
    "theta = np.array([eps, eps, 0.1, 0.2, 0.3, 0.4])\n",
    "rv = sp.stats.multinomial(1, theta)\n",
    "\n",
    "X = rv.rvs(100, random_state=1)\n",
    "y = X.sum(axis=0) / float(len(X))\n",
    "\n",
    "df = pd.DataFrame({\"이론\": rv.pmf(xx_ohe), \"시뮬레이션\": y}, index=np.arange(1, 7)).stack()\n",
    "df = df.reset_index()\n",
    "df.columns = [\"표본값\", \"유형\", \"비율\"]\n",
    "df.pivot(\"표본값\", \"유형\", \"비율\")\n",
    "sns.barplot(x=\"표본값\", y=\"비율\", hue=\"유형\", data=df)\n",
    "plt.show()"
   ]
  },
  {
   "cell_type": "code",
   "execution_count": 42,
   "metadata": {},
   "outputs": [],
   "source": [
    "# fair한 주사위를 만든 후\n",
    "# 모델링 해주기 위해서 one hot encoding 해준다.\n",
    "# 실제로 던져보자 100번 던져서 5개만 뽑아서 본다.\n",
    "# 각 숫자 나온걸 직접 카운팅 해보면 비교해 볼 수 있다.\n",
    "# 세타 다른 값으로 실행해보자\n",
    "# 0이 아닌 가장 작은 값 eps 넣었다. 0 넣으면 에러 나서"
   ]
  }
 ],
 "metadata": {
  "kernelspec": {
   "display_name": "Python 3",
   "language": "python",
   "name": "python3"
  },
  "language_info": {
   "codemirror_mode": {
    "name": "ipython",
    "version": 3
   },
   "file_extension": ".py",
   "mimetype": "text/x-python",
   "name": "python",
   "nbconvert_exporter": "python",
   "pygments_lexer": "ipython3",
   "version": "3.6.5"
  }
 },
 "nbformat": 4,
 "nbformat_minor": 2
}
