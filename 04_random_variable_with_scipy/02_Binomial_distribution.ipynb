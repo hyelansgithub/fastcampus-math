{
 "cells": [
  {
   "cell_type": "markdown",
   "metadata": {},
   "source": [
    "# 4. Scipy로 공부하는 확률 변수\n",
    "\n",
    "## 01장. 이산 확률 분포\n",
    "\n",
    "## 2. 이항 분포 (Binomial distribution)"
   ]
  },
  {
   "cell_type": "code",
   "execution_count": 11,
   "metadata": {},
   "outputs": [],
   "source": [
    "import scipy as sp\n",
    "import numpy as np\n",
    "import pandas as pd\n",
    "import matplotlib.pylab as plt\n",
    "import seaborn as sns\n",
    "import matplotlib as mpl\n",
    "from scipy import stats"
   ]
  },
  {
   "cell_type": "code",
   "execution_count": 17,
   "metadata": {},
   "outputs": [
    {
     "name": "stdout",
     "output_type": "stream",
     "text": [
      "AppleGothic\n"
     ]
    }
   ],
   "source": [
    "mpl.rcParams[\"font.family\"]\n",
    "mpl.matplotlib_fname()\n",
    "import matplotlib.font_manager as fm\n",
    "font_location = \"/Library/Fonts/AppleGothic.ttf\"\n",
    "font_name = fm.FontProperties(fname=font_location).get_name()\n",
    "print(font_name)\n",
    "mpl.rc('font', family=font_name)"
   ]
  },
  {
   "cell_type": "markdown",
   "metadata": {},
   "source": [
    "- - -\n",
    "### 1. 이항분포\n",
    "\n",
    "- 성공확률이 theta인 베르누이 시도를 N번 해서 성공할 횟수를 확률 변수로 가진다.\n",
    "- 확률변수는 0~N까지 N+1개를 가진다.\n",
    "- N번 게임하는게 한 세트이다. N번 게임해서 몇번 이겼는지가 확률 변수로 설정됨"
   ]
  },
  {
   "cell_type": "code",
   "execution_count": 9,
   "metadata": {
    "scrolled": true
   },
   "outputs": [
    {
     "data": {
      "text/latex": [
       "$Y \\sim Bern(y;\\theta)$ 인 베르누이 시도를 N번 했을 때, $X \\sim Bin(x; N,\\theta)$\n",
       "X는 이항분포를 따르는 확률 변수이다. "
      ],
      "text/plain": [
       "<IPython.core.display.Latex object>"
      ]
     },
     "metadata": {},
     "output_type": "display_data"
    }
   ],
   "source": [
    "%%latex\n",
    "$Y \\sim Bern(y;\\theta)$ 인 베르누이 시도를 N번 했을 때, $X \\sim Bin(x; N,\\theta)$\n",
    "X는 이항분포를 따르는 확률 변수이다."
   ]
  },
  {
   "cell_type": "markdown",
   "metadata": {},
   "source": [
    "- - -\n",
    "### 2. Scipy를 이용한 이항분포의 시뮬레이션"
   ]
  },
  {
   "cell_type": "code",
   "execution_count": 33,
   "metadata": {
    "scrolled": true
   },
   "outputs": [
    {
     "data": {
      "text/plain": [
       "<scipy.stats._distn_infrastructure.rv_frozen at 0x10957b240>"
      ]
     },
     "execution_count": 33,
     "metadata": {},
     "output_type": "execute_result"
    }
   ],
   "source": [
    "# 이항분포를 따르는 객체 만들기\n",
    "\n",
    "N = 10\n",
    "theta = 0.6 # 앞면이 나오는 확률을 높게 설정해서 오른쪽으로 좀 붙었다.\n",
    "rv = sp.stats.binom(N, theta)\n",
    "rv"
   ]
  },
  {
   "cell_type": "code",
   "execution_count": 34,
   "metadata": {},
   "outputs": [
    {
     "data": {
      "image/png": "[encoded data removed]",
      "text/plain": [
       "<Figure size 432x288 with 1 Axes>"
      ]
     },
     "metadata": {},
     "output_type": "display_data"
    }
   ],
   "source": [
    "# 이항 분포의 pmf 만들어서 객체 생성시 설정한 N, theta에 맞는 이상적 확률 값 확인\n",
    "# 이길 확률 즉, theta 값 조절하게 되면 총 N번 게임 해서 이길 확률도 변화하기 때문에 이항분포의 pmf 그래프도 좌우로 움직이게 된다.\n",
    "\n",
    "xx = np.arange(N + 1)\n",
    "plt.bar(xx, rv.pmf(xx), align=\"center\")\n",
    "plt.ylabel(\"P(x)\")\n",
    "plt.title(\"이항 분포의 pmf\")\n",
    "plt.show()"
   ]
  },
  {
   "cell_type": "markdown",
   "metadata": {},
   "source": [
    "- - -"
   ]
  },
  {
   "cell_type": "code",
   "execution_count": 31,
   "metadata": {
    "scrolled": true
   },
   "outputs": [
    {
     "data": {
      "text/plain": [
       "array([ 6,  5,  6,  6,  6,  5,  6,  4,  3,  6,  5,  6,  6,  4,  8,  8,  9,\n",
       "        5,  5,  4,  3,  5,  6,  5,  8,  5,  8,  4,  6,  6,  7,  5,  6,  6,\n",
       "        9,  6,  6,  6,  4,  5,  7,  6,  5,  8,  5,  5,  7,  8,  7,  7,  6,\n",
       "        6,  2,  8,  7,  8,  5,  7,  6,  7,  8,  8,  5,  8,  7,  7,  5,  8,\n",
       "        4,  8,  3,  6,  3,  6,  5,  9,  7,  8,  7,  8,  7,  6,  8,  5,  6,\n",
       "        7,  6,  8,  6,  4,  7,  5,  8,  5,  7,  7,  6,  9,  5, 10])"
      ]
     },
     "execution_count": 31,
     "metadata": {},
     "output_type": "execute_result"
    }
   ],
   "source": [
    "# 이항분포 객체를 이용해서 실제 데이터를 뽑은 샘플링 작업\n",
    "np.random.seed(0)\n",
    "x = rv.rvs(100)\n",
    "x"
   ]
  },
  {
   "cell_type": "code",
   "execution_count": 35,
   "metadata": {},
   "outputs": [
    {
     "data": {
      "image/png": "[encoded data removed]",
      "text/plain": [
       "<Figure size 432x288 with 1 Axes>"
      ]
     },
     "metadata": {},
     "output_type": "display_data"
    }
   ],
   "source": [
    "# 직접 샘플링 한 것의 분포를 살펴보자\n",
    "sns.countplot(x)\n",
    "plt.title(\"이항 분포의 시뮬레이션\")\n",
    "plt.xlabel(\"표본값\")\n",
    "plt.show()"
   ]
  },
  {
   "cell_type": "code",
   "execution_count": 36,
   "metadata": {},
   "outputs": [
    {
     "data": {
      "text/html": [
       "<div>\n",
       "<style scoped>\n",
       "    .dataframe tbody tr th:only-of-type {\n",
       "        vertical-align: middle;\n",
       "    }\n",
       "\n",
       "    .dataframe tbody tr th {\n",
       "        vertical-align: top;\n",
       "    }\n",
       "\n",
       "    .dataframe thead th {\n",
       "        text-align: right;\n",
       "    }\n",
       "</style>\n",
       "<table border=\"1\" class=\"dataframe\">\n",
       "  <thead>\n",
       "    <tr style=\"text-align: right;\">\n",
       "      <th></th>\n",
       "      <th>표본값</th>\n",
       "      <th>유형</th>\n",
       "      <th>비율</th>\n",
       "    </tr>\n",
       "  </thead>\n",
       "  <tbody>\n",
       "    <tr>\n",
       "      <th>0</th>\n",
       "      <td>0</td>\n",
       "      <td>시뮬레이션</td>\n",
       "      <td>0.000000</td>\n",
       "    </tr>\n",
       "    <tr>\n",
       "      <th>1</th>\n",
       "      <td>0</td>\n",
       "      <td>이론</td>\n",
       "      <td>0.000105</td>\n",
       "    </tr>\n",
       "    <tr>\n",
       "      <th>2</th>\n",
       "      <td>1</td>\n",
       "      <td>시뮬레이션</td>\n",
       "      <td>0.000000</td>\n",
       "    </tr>\n",
       "    <tr>\n",
       "      <th>3</th>\n",
       "      <td>1</td>\n",
       "      <td>이론</td>\n",
       "      <td>0.001573</td>\n",
       "    </tr>\n",
       "    <tr>\n",
       "      <th>4</th>\n",
       "      <td>2</td>\n",
       "      <td>시뮬레이션</td>\n",
       "      <td>0.010000</td>\n",
       "    </tr>\n",
       "    <tr>\n",
       "      <th>5</th>\n",
       "      <td>2</td>\n",
       "      <td>이론</td>\n",
       "      <td>0.010617</td>\n",
       "    </tr>\n",
       "    <tr>\n",
       "      <th>6</th>\n",
       "      <td>3</td>\n",
       "      <td>시뮬레이션</td>\n",
       "      <td>0.040000</td>\n",
       "    </tr>\n",
       "    <tr>\n",
       "      <th>7</th>\n",
       "      <td>3</td>\n",
       "      <td>이론</td>\n",
       "      <td>0.042467</td>\n",
       "    </tr>\n",
       "    <tr>\n",
       "      <th>8</th>\n",
       "      <td>4</td>\n",
       "      <td>시뮬레이션</td>\n",
       "      <td>0.070000</td>\n",
       "    </tr>\n",
       "    <tr>\n",
       "      <th>9</th>\n",
       "      <td>4</td>\n",
       "      <td>이론</td>\n",
       "      <td>0.111477</td>\n",
       "    </tr>\n",
       "    <tr>\n",
       "      <th>10</th>\n",
       "      <td>5</td>\n",
       "      <td>시뮬레이션</td>\n",
       "      <td>0.210000</td>\n",
       "    </tr>\n",
       "    <tr>\n",
       "      <th>11</th>\n",
       "      <td>5</td>\n",
       "      <td>이론</td>\n",
       "      <td>0.200658</td>\n",
       "    </tr>\n",
       "    <tr>\n",
       "      <th>12</th>\n",
       "      <td>6</td>\n",
       "      <td>시뮬레이션</td>\n",
       "      <td>0.270000</td>\n",
       "    </tr>\n",
       "    <tr>\n",
       "      <th>13</th>\n",
       "      <td>6</td>\n",
       "      <td>이론</td>\n",
       "      <td>0.250823</td>\n",
       "    </tr>\n",
       "    <tr>\n",
       "      <th>14</th>\n",
       "      <td>7</td>\n",
       "      <td>시뮬레이션</td>\n",
       "      <td>0.170000</td>\n",
       "    </tr>\n",
       "    <tr>\n",
       "      <th>15</th>\n",
       "      <td>7</td>\n",
       "      <td>이론</td>\n",
       "      <td>0.214991</td>\n",
       "    </tr>\n",
       "    <tr>\n",
       "      <th>16</th>\n",
       "      <td>8</td>\n",
       "      <td>시뮬레이션</td>\n",
       "      <td>0.180000</td>\n",
       "    </tr>\n",
       "    <tr>\n",
       "      <th>17</th>\n",
       "      <td>8</td>\n",
       "      <td>이론</td>\n",
       "      <td>0.120932</td>\n",
       "    </tr>\n",
       "    <tr>\n",
       "      <th>18</th>\n",
       "      <td>9</td>\n",
       "      <td>시뮬레이션</td>\n",
       "      <td>0.040000</td>\n",
       "    </tr>\n",
       "    <tr>\n",
       "      <th>19</th>\n",
       "      <td>9</td>\n",
       "      <td>이론</td>\n",
       "      <td>0.040311</td>\n",
       "    </tr>\n",
       "    <tr>\n",
       "      <th>20</th>\n",
       "      <td>10</td>\n",
       "      <td>시뮬레이션</td>\n",
       "      <td>0.010000</td>\n",
       "    </tr>\n",
       "    <tr>\n",
       "      <th>21</th>\n",
       "      <td>10</td>\n",
       "      <td>이론</td>\n",
       "      <td>0.006047</td>\n",
       "    </tr>\n",
       "  </tbody>\n",
       "</table>\n",
       "</div>"
      ],
      "text/plain": [
       "    표본값     유형        비율\n",
       "0     0  시뮬레이션  0.000000\n",
       "1     0     이론  0.000105\n",
       "2     1  시뮬레이션  0.000000\n",
       "3     1     이론  0.001573\n",
       "4     2  시뮬레이션  0.010000\n",
       "5     2     이론  0.010617\n",
       "6     3  시뮬레이션  0.040000\n",
       "7     3     이론  0.042467\n",
       "8     4  시뮬레이션  0.070000\n",
       "9     4     이론  0.111477\n",
       "10    5  시뮬레이션  0.210000\n",
       "11    5     이론  0.200658\n",
       "12    6  시뮬레이션  0.270000\n",
       "13    6     이론  0.250823\n",
       "14    7  시뮬레이션  0.170000\n",
       "15    7     이론  0.214991\n",
       "16    8  시뮬레이션  0.180000\n",
       "17    8     이론  0.120932\n",
       "18    9  시뮬레이션  0.040000\n",
       "19    9     이론  0.040311\n",
       "20   10  시뮬레이션  0.010000\n",
       "21   10     이론  0.006047"
      ]
     },
     "execution_count": 36,
     "metadata": {},
     "output_type": "execute_result"
    }
   ],
   "source": [
    "# 이상적 분포와 실제 샘플링한 데이터의 분포를 동일 plot에 비교해보기\n",
    "\n",
    "y = np.bincount(x, minlength=N+1)/float(len(x))\n",
    "df = pd.DataFrame({\"이론\": rv.pmf(xx), \"시뮬레이션\": y}).stack()\n",
    "df = df.reset_index()\n",
    "df.columns = [\"표본값\", \"유형\", \"비율\"]\n",
    "df.pivot(\"표본값\", \"유형\", \"비율\")\n",
    "df"
   ]
  },
  {
   "cell_type": "code",
   "execution_count": 31,
   "metadata": {
    "scrolled": true
   },
   "outputs": [
    {
     "data": {
      "image/png": "[encoded data removed]",
      "text/plain": [
       "<Figure size 432x288 with 1 Axes>"
      ]
     },
     "metadata": {},
     "output_type": "display_data"
    }
   ],
   "source": [
    "sns.barplot(x=\"표본값\", y=\"비율\", hue=\"유형\", data=df)\n",
    "plt.show()"
   ]
  },
  {
   "cell_type": "markdown",
   "metadata": {},
   "source": [
    "- - -\n",
    "### 연습문제\n",
    "\n",
    "이항 확률 분포의 모수가 다음과 같을 경우에 각각 샘플을 생성한 후 기댓값과 분산을 구하고 앞의 예제와 같이 확률 밀도 함수와 비교한 카운트 플롯을 그린다.\n",
    "\n",
    "샘플의 갯수가 10개인 경우와 1000개인 경우에 대해 각각 위의 계산을 한다.\n",
    "\n",
    "- θ = 0.5, N = 5\n",
    "- θ = 0.9, N = 20"
   ]
  },
  {
   "cell_type": "code",
   "execution_count": 37,
   "metadata": {},
   "outputs": [
    {
     "data": {
      "text/plain": [
       "<scipy.stats._distn_infrastructure.rv_frozen at 0x1097490b8>"
      ]
     },
     "execution_count": 37,
     "metadata": {},
     "output_type": "execute_result"
    }
   ],
   "source": [
    "theta1=0.5\n",
    "N1=5\n",
    "rv1 = sp.stats.binom(N1,theta1)\n",
    "rv1"
   ]
  },
  {
   "cell_type": "code",
   "execution_count": 55,
   "metadata": {},
   "outputs": [
    {
     "data": {
      "image/png": "[encoded data removed]",
      "text/plain": [
       "<Figure size 432x288 with 1 Axes>"
      ]
     },
     "metadata": {},
     "output_type": "display_data"
    }
   ],
   "source": [
    "# theta가 0.5일 때 5번 시행시 성공할 횟수의 확률을 pmf로 나타냄\n",
    "xx = np.arange(N1 + 1)\n",
    "plt.bar(xx, rv1.pmf(xx), align=\"center\")\n",
    "plt.ylabel(\"P(x)\")\n",
    "plt.title(\"이항 분포의 pmf\")\n",
    "plt.show()"
   ]
  },
  {
   "cell_type": "markdown",
   "metadata": {},
   "source": [
    "- - -"
   ]
  },
  {
   "cell_type": "code",
   "execution_count": 59,
   "metadata": {
    "scrolled": true
   },
   "outputs": [
    {
     "data": {
      "text/plain": [
       "<scipy.stats._distn_infrastructure.rv_frozen at 0x108dc9da0>"
      ]
     },
     "execution_count": 59,
     "metadata": {},
     "output_type": "execute_result"
    }
   ],
   "source": [
    "theta2=0.9\n",
    "N2=20\n",
    "rv2 = sp.stats.binom(N2,theta2)\n",
    "rv2"
   ]
  },
  {
   "cell_type": "code",
   "execution_count": 61,
   "metadata": {},
   "outputs": [
    {
     "data": {
      "image/png": "[encoded data removed]",
      "text/plain": [
       "<Figure size 432x288 with 1 Axes>"
      ]
     },
     "metadata": {},
     "output_type": "display_data"
    }
   ],
   "source": [
    "# theta가 0.9일 때 20번 시행시 성공할 횟수의 확률을 pmf로 나타냄\n",
    "xx = np.arange(N2 + 1)\n",
    "plt.bar(xx, rv2.pmf(xx), align=\"center\")\n",
    "plt.ylabel(\"P(x)\")\n",
    "plt.title(\"이항 분포의 pmf\")\n",
    "plt.show()"
   ]
  },
  {
   "cell_type": "code",
   "execution_count": 62,
   "metadata": {},
   "outputs": [],
   "source": [
    "x11 = rv1.rvs(10)\n",
    "x12 = rv1.rvs(1000)"
   ]
  },
  {
   "cell_type": "code",
   "execution_count": 63,
   "metadata": {},
   "outputs": [],
   "source": [
    "x21 = rv2.rvs(10)\n",
    "x22 = rv2.rvs(1000)"
   ]
  },
  {
   "cell_type": "code",
   "execution_count": 64,
   "metadata": {
    "scrolled": true
   },
   "outputs": [
    {
     "data": {
      "text/plain": [
       "(2.5, 2.529)"
      ]
     },
     "execution_count": 64,
     "metadata": {},
     "output_type": "execute_result"
    }
   ],
   "source": [
    "np.mean(x11), np.mean(x12)"
   ]
  },
  {
   "cell_type": "code",
   "execution_count": 65,
   "metadata": {
    "scrolled": true
   },
   "outputs": [
    {
     "data": {
      "text/plain": [
       "(17.6, 18.091)"
      ]
     },
     "execution_count": 65,
     "metadata": {},
     "output_type": "execute_result"
    }
   ],
   "source": [
    "np.mean(x21), np.mean(x22)"
   ]
  },
  {
   "cell_type": "code",
   "execution_count": 66,
   "metadata": {
    "scrolled": false
   },
   "outputs": [
    {
     "data": {
      "text/plain": [
       "(1.65, 1.215159)"
      ]
     },
     "execution_count": 66,
     "metadata": {},
     "output_type": "execute_result"
    }
   ],
   "source": [
    "np.var(x11), np.var(x12)"
   ]
  },
  {
   "cell_type": "code",
   "execution_count": 67,
   "metadata": {
    "scrolled": false
   },
   "outputs": [
    {
     "data": {
      "text/plain": [
       "(1.8400000000000003, 1.7247189999999997)"
      ]
     },
     "execution_count": 67,
     "metadata": {},
     "output_type": "execute_result"
    }
   ],
   "source": [
    "np.var(x21), np.var(x22)"
   ]
  },
  {
   "cell_type": "markdown",
   "metadata": {},
   "source": [
    "- - -"
   ]
  },
  {
   "cell_type": "code",
   "execution_count": 68,
   "metadata": {
    "scrolled": true
   },
   "outputs": [
    {
     "data": {
      "image/png": "[encoded data removed]",
      "text/plain": [
       "<Figure size 432x288 with 1 Axes>"
      ]
     },
     "metadata": {},
     "output_type": "display_data"
    }
   ],
   "source": [
    "sns.countplot(x11)\n",
    "plt.title(\"θ=0.5 10번 시행 시 시뮬레이션\")\n",
    "plt.xlabel(\"표본값\")\n",
    "plt.show()"
   ]
  },
  {
   "cell_type": "code",
   "execution_count": 69,
   "metadata": {},
   "outputs": [
    {
     "data": {
      "image/png": "[encoded data removed]",
      "text/plain": [
       "<Figure size 432x288 with 1 Axes>"
      ]
     },
     "metadata": {},
     "output_type": "display_data"
    }
   ],
   "source": [
    "sns.countplot(x12)\n",
    "plt.title(\"θ=0.5 1000번 시행 시 시뮬레이션\")\n",
    "plt.xlabel(\"표본값\")\n",
    "plt.show()"
   ]
  },
  {
   "cell_type": "code",
   "execution_count": 75,
   "metadata": {
    "scrolled": false
   },
   "outputs": [
    {
     "data": {
      "image/png": "[encoded data removed]",
      "text/plain": [
       "<Figure size 432x288 with 1 Axes>"
      ]
     },
     "metadata": {},
     "output_type": "display_data"
    }
   ],
   "source": [
    "# 이길 확률이 0.9인 베르누이를 20번 시행하는 이항변수를 10개 샘플링 시 성공한 횟수의 확률을 나타냄\n",
    "sns.countplot(x21)\n",
    "plt.title(\"θ=0.9 20번 시행 시 시뮬레이션\")\n",
    "plt.xlabel(\"표본값\")\n",
    "plt.show()"
   ]
  },
  {
   "cell_type": "code",
   "execution_count": 76,
   "metadata": {
    "scrolled": true
   },
   "outputs": [
    {
     "data": {
      "image/png": "[encoded data removed]",
      "text/plain": [
       "<Figure size 432x288 with 1 Axes>"
      ]
     },
     "metadata": {},
     "output_type": "display_data"
    }
   ],
   "source": [
    "# 이길 확률이 0.9인 베르누이를 20번 시행했을 때 이길 횟수, 1000번 샘플링 했을 때 성공한 횟수의 확률을 나타냄\n",
    "sns.countplot(x22)\n",
    "plt.title(\"θ=0.9 1000번 시행 시 시뮬레이션\")\n",
    "plt.xlabel(\"표본값\")\n",
    "plt.show()"
   ]
  },
  {
   "cell_type": "markdown",
   "metadata": {},
   "source": [
    "- - - "
   ]
  },
  {
   "cell_type": "code",
   "execution_count": null,
   "metadata": {},
   "outputs": [],
   "source": [
    "# 이상적인 확률 분포와 시뮬레이션 분포를 비교해보기"
   ]
  },
  {
   "cell_type": "code",
   "execution_count": 82,
   "metadata": {},
   "outputs": [
    {
     "data": {
      "text/html": [
       "<div>\n",
       "<style scoped>\n",
       "    .dataframe tbody tr th:only-of-type {\n",
       "        vertical-align: middle;\n",
       "    }\n",
       "\n",
       "    .dataframe tbody tr th {\n",
       "        vertical-align: top;\n",
       "    }\n",
       "\n",
       "    .dataframe thead th {\n",
       "        text-align: right;\n",
       "    }\n",
       "</style>\n",
       "<table border=\"1\" class=\"dataframe\">\n",
       "  <thead>\n",
       "    <tr style=\"text-align: right;\">\n",
       "      <th></th>\n",
       "      <th>표본값</th>\n",
       "      <th>유형</th>\n",
       "      <th>비율</th>\n",
       "    </tr>\n",
       "  </thead>\n",
       "  <tbody>\n",
       "    <tr>\n",
       "      <th>0</th>\n",
       "      <td>0</td>\n",
       "      <td>시뮬레이션</td>\n",
       "      <td>0.10000</td>\n",
       "    </tr>\n",
       "    <tr>\n",
       "      <th>1</th>\n",
       "      <td>0</td>\n",
       "      <td>이론</td>\n",
       "      <td>0.03125</td>\n",
       "    </tr>\n",
       "    <tr>\n",
       "      <th>2</th>\n",
       "      <td>1</td>\n",
       "      <td>시뮬레이션</td>\n",
       "      <td>0.00000</td>\n",
       "    </tr>\n",
       "    <tr>\n",
       "      <th>3</th>\n",
       "      <td>1</td>\n",
       "      <td>이론</td>\n",
       "      <td>0.15625</td>\n",
       "    </tr>\n",
       "    <tr>\n",
       "      <th>4</th>\n",
       "      <td>2</td>\n",
       "      <td>시뮬레이션</td>\n",
       "      <td>0.50000</td>\n",
       "    </tr>\n",
       "    <tr>\n",
       "      <th>5</th>\n",
       "      <td>2</td>\n",
       "      <td>이론</td>\n",
       "      <td>0.31250</td>\n",
       "    </tr>\n",
       "    <tr>\n",
       "      <th>6</th>\n",
       "      <td>3</td>\n",
       "      <td>시뮬레이션</td>\n",
       "      <td>0.20000</td>\n",
       "    </tr>\n",
       "    <tr>\n",
       "      <th>7</th>\n",
       "      <td>3</td>\n",
       "      <td>이론</td>\n",
       "      <td>0.31250</td>\n",
       "    </tr>\n",
       "    <tr>\n",
       "      <th>8</th>\n",
       "      <td>4</td>\n",
       "      <td>시뮬레이션</td>\n",
       "      <td>0.10000</td>\n",
       "    </tr>\n",
       "    <tr>\n",
       "      <th>9</th>\n",
       "      <td>4</td>\n",
       "      <td>이론</td>\n",
       "      <td>0.15625</td>\n",
       "    </tr>\n",
       "    <tr>\n",
       "      <th>10</th>\n",
       "      <td>5</td>\n",
       "      <td>시뮬레이션</td>\n",
       "      <td>0.10000</td>\n",
       "    </tr>\n",
       "    <tr>\n",
       "      <th>11</th>\n",
       "      <td>5</td>\n",
       "      <td>이론</td>\n",
       "      <td>0.03125</td>\n",
       "    </tr>\n",
       "  </tbody>\n",
       "</table>\n",
       "</div>"
      ],
      "text/plain": [
       "    표본값     유형       비율\n",
       "0     0  시뮬레이션  0.10000\n",
       "1     0     이론  0.03125\n",
       "2     1  시뮬레이션  0.00000\n",
       "3     1     이론  0.15625\n",
       "4     2  시뮬레이션  0.50000\n",
       "5     2     이론  0.31250\n",
       "6     3  시뮬레이션  0.20000\n",
       "7     3     이론  0.31250\n",
       "8     4  시뮬레이션  0.10000\n",
       "9     4     이론  0.15625\n",
       "10    5  시뮬레이션  0.10000\n",
       "11    5     이론  0.03125"
      ]
     },
     "execution_count": 82,
     "metadata": {},
     "output_type": "execute_result"
    }
   ],
   "source": [
    "# 샘플 갯수 10개인 경우\n",
    "xx = np.arange(N1 + 1)\n",
    "y11 = np.bincount(x11, minlength=N1+1)/float(len(x11))\n",
    "df11 = pd.DataFrame({\"이론\": rv1.pmf(xx), \"시뮬레이션\": y11}).stack()\n",
    "df11 = df11.reset_index()\n",
    "df11.columns = [\"표본값\", \"유형\", \"비율\"]\n",
    "df11.pivot(\"표본값\", \"유형\", \"비율\")\n",
    "df11"
   ]
  },
  {
   "cell_type": "code",
   "execution_count": 83,
   "metadata": {
    "scrolled": true
   },
   "outputs": [
    {
     "data": {
      "image/png": "[encoded data removed]",
      "text/plain": [
       "<Figure size 432x288 with 1 Axes>"
      ]
     },
     "metadata": {},
     "output_type": "display_data"
    }
   ],
   "source": [
    "sns.barplot(x=\"표본값\", y=\"비율\", hue=\"유형\", data=df11)\n",
    "plt.show()"
   ]
  },
  {
   "cell_type": "code",
   "execution_count": 86,
   "metadata": {},
   "outputs": [
    {
     "data": {
      "text/html": [
       "<div>\n",
       "<style scoped>\n",
       "    .dataframe tbody tr th:only-of-type {\n",
       "        vertical-align: middle;\n",
       "    }\n",
       "\n",
       "    .dataframe tbody tr th {\n",
       "        vertical-align: top;\n",
       "    }\n",
       "\n",
       "    .dataframe thead th {\n",
       "        text-align: right;\n",
       "    }\n",
       "</style>\n",
       "<table border=\"1\" class=\"dataframe\">\n",
       "  <thead>\n",
       "    <tr style=\"text-align: right;\">\n",
       "      <th></th>\n",
       "      <th>표본값</th>\n",
       "      <th>유형</th>\n",
       "      <th>비율</th>\n",
       "    </tr>\n",
       "  </thead>\n",
       "  <tbody>\n",
       "    <tr>\n",
       "      <th>0</th>\n",
       "      <td>0</td>\n",
       "      <td>시뮬레이션</td>\n",
       "      <td>0.02800</td>\n",
       "    </tr>\n",
       "    <tr>\n",
       "      <th>1</th>\n",
       "      <td>0</td>\n",
       "      <td>이론</td>\n",
       "      <td>0.03125</td>\n",
       "    </tr>\n",
       "    <tr>\n",
       "      <th>2</th>\n",
       "      <td>1</td>\n",
       "      <td>시뮬레이션</td>\n",
       "      <td>0.14400</td>\n",
       "    </tr>\n",
       "    <tr>\n",
       "      <th>3</th>\n",
       "      <td>1</td>\n",
       "      <td>이론</td>\n",
       "      <td>0.15625</td>\n",
       "    </tr>\n",
       "    <tr>\n",
       "      <th>4</th>\n",
       "      <td>2</td>\n",
       "      <td>시뮬레이션</td>\n",
       "      <td>0.32300</td>\n",
       "    </tr>\n",
       "    <tr>\n",
       "      <th>5</th>\n",
       "      <td>2</td>\n",
       "      <td>이론</td>\n",
       "      <td>0.31250</td>\n",
       "    </tr>\n",
       "    <tr>\n",
       "      <th>6</th>\n",
       "      <td>3</td>\n",
       "      <td>시뮬레이션</td>\n",
       "      <td>0.31200</td>\n",
       "    </tr>\n",
       "    <tr>\n",
       "      <th>7</th>\n",
       "      <td>3</td>\n",
       "      <td>이론</td>\n",
       "      <td>0.31250</td>\n",
       "    </tr>\n",
       "    <tr>\n",
       "      <th>8</th>\n",
       "      <td>4</td>\n",
       "      <td>시뮬레이션</td>\n",
       "      <td>0.16200</td>\n",
       "    </tr>\n",
       "    <tr>\n",
       "      <th>9</th>\n",
       "      <td>4</td>\n",
       "      <td>이론</td>\n",
       "      <td>0.15625</td>\n",
       "    </tr>\n",
       "    <tr>\n",
       "      <th>10</th>\n",
       "      <td>5</td>\n",
       "      <td>시뮬레이션</td>\n",
       "      <td>0.03100</td>\n",
       "    </tr>\n",
       "    <tr>\n",
       "      <th>11</th>\n",
       "      <td>5</td>\n",
       "      <td>이론</td>\n",
       "      <td>0.03125</td>\n",
       "    </tr>\n",
       "  </tbody>\n",
       "</table>\n",
       "</div>"
      ],
      "text/plain": [
       "    표본값     유형       비율\n",
       "0     0  시뮬레이션  0.02800\n",
       "1     0     이론  0.03125\n",
       "2     1  시뮬레이션  0.14400\n",
       "3     1     이론  0.15625\n",
       "4     2  시뮬레이션  0.32300\n",
       "5     2     이론  0.31250\n",
       "6     3  시뮬레이션  0.31200\n",
       "7     3     이론  0.31250\n",
       "8     4  시뮬레이션  0.16200\n",
       "9     4     이론  0.15625\n",
       "10    5  시뮬레이션  0.03100\n",
       "11    5     이론  0.03125"
      ]
     },
     "execution_count": 86,
     "metadata": {},
     "output_type": "execute_result"
    }
   ],
   "source": [
    "# 샘플 갯수 1000개인 경우\n",
    "xx = np.arange(N1 + 1)\n",
    "y12 = np.bincount(x12, minlength=N1+1)/float(len(x12))\n",
    "df12 = pd.DataFrame({\"이론\": rv1.pmf(xx), \"시뮬레이션\": y12}).stack()\n",
    "df12 = df12.reset_index()\n",
    "df12.columns = [\"표본값\", \"유형\", \"비율\"]\n",
    "df12.pivot(\"표본값\", \"유형\", \"비율\")\n",
    "df12"
   ]
  },
  {
   "cell_type": "code",
   "execution_count": 85,
   "metadata": {},
   "outputs": [
    {
     "data": {
      "image/png": "[encoded data removed]",
      "text/plain": [
       "<Figure size 432x288 with 1 Axes>"
      ]
     },
     "metadata": {},
     "output_type": "display_data"
    }
   ],
   "source": [
    "sns.barplot(x=\"표본값\", y=\"비율\", hue=\"유형\", data=df12)\n",
    "plt.show()"
   ]
  },
  {
   "cell_type": "markdown",
   "metadata": {},
   "source": [
    "- - -"
   ]
  },
  {
   "cell_type": "code",
   "execution_count": 91,
   "metadata": {
    "scrolled": true
   },
   "outputs": [
    {
     "data": {
      "text/html": [
       "<div>\n",
       "<style scoped>\n",
       "    .dataframe tbody tr th:only-of-type {\n",
       "        vertical-align: middle;\n",
       "    }\n",
       "\n",
       "    .dataframe tbody tr th {\n",
       "        vertical-align: top;\n",
       "    }\n",
       "\n",
       "    .dataframe thead th {\n",
       "        text-align: right;\n",
       "    }\n",
       "</style>\n",
       "<table border=\"1\" class=\"dataframe\">\n",
       "  <thead>\n",
       "    <tr style=\"text-align: right;\">\n",
       "      <th></th>\n",
       "      <th>표본값</th>\n",
       "      <th>유형</th>\n",
       "      <th>비율</th>\n",
       "    </tr>\n",
       "  </thead>\n",
       "  <tbody>\n",
       "    <tr>\n",
       "      <th>37</th>\n",
       "      <td>18</td>\n",
       "      <td>이론</td>\n",
       "      <td>0.285180</td>\n",
       "    </tr>\n",
       "    <tr>\n",
       "      <th>38</th>\n",
       "      <td>19</td>\n",
       "      <td>시뮬레이션</td>\n",
       "      <td>0.400000</td>\n",
       "    </tr>\n",
       "    <tr>\n",
       "      <th>39</th>\n",
       "      <td>19</td>\n",
       "      <td>이론</td>\n",
       "      <td>0.270170</td>\n",
       "    </tr>\n",
       "    <tr>\n",
       "      <th>40</th>\n",
       "      <td>20</td>\n",
       "      <td>시뮬레이션</td>\n",
       "      <td>0.000000</td>\n",
       "    </tr>\n",
       "    <tr>\n",
       "      <th>41</th>\n",
       "      <td>20</td>\n",
       "      <td>이론</td>\n",
       "      <td>0.121577</td>\n",
       "    </tr>\n",
       "  </tbody>\n",
       "</table>\n",
       "</div>"
      ],
      "text/plain": [
       "    표본값     유형        비율\n",
       "37   18     이론  0.285180\n",
       "38   19  시뮬레이션  0.400000\n",
       "39   19     이론  0.270170\n",
       "40   20  시뮬레이션  0.000000\n",
       "41   20     이론  0.121577"
      ]
     },
     "execution_count": 91,
     "metadata": {},
     "output_type": "execute_result"
    }
   ],
   "source": [
    "# 샘플 갯수 10개인 경우\n",
    "xx = np.arange(N2 + 1)\n",
    "y21 = np.bincount(x21, minlength=N2+1)/float(len(x21))\n",
    "df21 = pd.DataFrame({\"이론\": rv2.pmf(xx), \"시뮬레이션\": y21}).stack()\n",
    "df21 = df21.reset_index()\n",
    "df21.columns = [\"표본값\", \"유형\", \"비율\"]\n",
    "df21.pivot(\"표본값\", \"유형\", \"비율\")\n",
    "df21.tail()"
   ]
  },
  {
   "cell_type": "code",
   "execution_count": 89,
   "metadata": {},
   "outputs": [
    {
     "data": {
      "image/png": "[encoded data removed]",
      "text/plain": [
       "<Figure size 432x288 with 1 Axes>"
      ]
     },
     "metadata": {},
     "output_type": "display_data"
    }
   ],
   "source": [
    "sns.barplot(x=\"표본값\", y=\"비율\", hue=\"유형\", data=df21)\n",
    "plt.show()"
   ]
  },
  {
   "cell_type": "code",
   "execution_count": 92,
   "metadata": {
    "scrolled": true
   },
   "outputs": [
    {
     "data": {
      "text/html": [
       "<div>\n",
       "<style scoped>\n",
       "    .dataframe tbody tr th:only-of-type {\n",
       "        vertical-align: middle;\n",
       "    }\n",
       "\n",
       "    .dataframe tbody tr th {\n",
       "        vertical-align: top;\n",
       "    }\n",
       "\n",
       "    .dataframe thead th {\n",
       "        text-align: right;\n",
       "    }\n",
       "</style>\n",
       "<table border=\"1\" class=\"dataframe\">\n",
       "  <thead>\n",
       "    <tr style=\"text-align: right;\">\n",
       "      <th></th>\n",
       "      <th>표본값</th>\n",
       "      <th>유형</th>\n",
       "      <th>비율</th>\n",
       "    </tr>\n",
       "  </thead>\n",
       "  <tbody>\n",
       "    <tr>\n",
       "      <th>37</th>\n",
       "      <td>18</td>\n",
       "      <td>이론</td>\n",
       "      <td>0.285180</td>\n",
       "    </tr>\n",
       "    <tr>\n",
       "      <th>38</th>\n",
       "      <td>19</td>\n",
       "      <td>시뮬레이션</td>\n",
       "      <td>0.298000</td>\n",
       "    </tr>\n",
       "    <tr>\n",
       "      <th>39</th>\n",
       "      <td>19</td>\n",
       "      <td>이론</td>\n",
       "      <td>0.270170</td>\n",
       "    </tr>\n",
       "    <tr>\n",
       "      <th>40</th>\n",
       "      <td>20</td>\n",
       "      <td>시뮬레이션</td>\n",
       "      <td>0.128000</td>\n",
       "    </tr>\n",
       "    <tr>\n",
       "      <th>41</th>\n",
       "      <td>20</td>\n",
       "      <td>이론</td>\n",
       "      <td>0.121577</td>\n",
       "    </tr>\n",
       "  </tbody>\n",
       "</table>\n",
       "</div>"
      ],
      "text/plain": [
       "    표본값     유형        비율\n",
       "37   18     이론  0.285180\n",
       "38   19  시뮬레이션  0.298000\n",
       "39   19     이론  0.270170\n",
       "40   20  시뮬레이션  0.128000\n",
       "41   20     이론  0.121577"
      ]
     },
     "execution_count": 92,
     "metadata": {},
     "output_type": "execute_result"
    }
   ],
   "source": [
    "# 샘플 갯수 1000개인 경우\n",
    "xx = np.arange(N2 + 1)\n",
    "y22 = np.bincount(x22, minlength=N2+1)/float(len(x22))\n",
    "df22 = pd.DataFrame({\"이론\": rv2.pmf(xx), \"시뮬레이션\": y22}).stack()\n",
    "df22 = df22.reset_index()\n",
    "df22.columns = [\"표본값\", \"유형\", \"비율\"]\n",
    "df22.pivot(\"표본값\", \"유형\", \"비율\")\n",
    "df22.tail()"
   ]
  },
  {
   "cell_type": "code",
   "execution_count": 90,
   "metadata": {
    "scrolled": true
   },
   "outputs": [
    {
     "data": {
      "image/png": "[encoded data removed]",
      "text/plain": [
       "<Figure size 432x288 with 1 Axes>"
      ]
     },
     "metadata": {},
     "output_type": "display_data"
    }
   ],
   "source": [
    "sns.barplot(x=\"표본값\", y=\"비율\", hue=\"유형\", data=df22)\n",
    "plt.show()"
   ]
  },
  {
   "cell_type": "markdown",
   "metadata": {},
   "source": [
    "두 경우 모두 각 성공 확률에 따른 베르누이 시행을 N번 시행시 성공 횟수를 나타내는 이항변수를 생성 시 샘플의 갯수가 많을 수록 이상적인 이항분포의 특성과 가까운 값들을 가지게 된다."
   ]
  }
 ],
 "metadata": {
  "kernelspec": {
   "display_name": "Python 3",
   "language": "python",
   "name": "python3"
  },
  "language_info": {
   "codemirror_mode": {
    "name": "ipython",
    "version": 3
   },
   "file_extension": ".py",
   "mimetype": "text/x-python",
   "name": "python",
   "nbconvert_exporter": "python",
   "pygments_lexer": "ipython3",
   "version": "3.6.5"
  }
 },
 "nbformat": 4,
 "nbformat_minor": 2
}
