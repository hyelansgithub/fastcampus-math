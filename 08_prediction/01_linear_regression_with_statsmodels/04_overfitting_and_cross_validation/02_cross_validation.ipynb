{
 "cells": [
  {
   "cell_type": "markdown",
   "metadata": {},
   "source": [
    "### Scikit learn의 교차 검증 기능\n",
    "\n",
    "    - 단순 데이터 분리\n",
    "    - 복수의 test set 준비(cross validation generator)\n",
    "    - 복수의 test set 사용해서 평가 과정 반복(cross validation calculator)\n"
   ]
  },
  {
   "cell_type": "markdown",
   "metadata": {},
   "source": [
    " \n",
    "\n",
    "\n",
    "### 1. 단순 데이터 분리\n",
    "\n",
    "`train_test_split(X, y, test_size, train_size, random_state)`"
   ]
  },
  {
   "cell_type": "code",
   "execution_count": 2,
   "metadata": {},
   "outputs": [],
   "source": [
    "import numpy as np"
   ]
  },
  {
   "cell_type": "code",
   "execution_count": 3,
   "metadata": {},
   "outputs": [
    {
     "data": {
      "text/plain": [
       "array([[0, 1],\n",
       "       [2, 3],\n",
       "       [4, 5],\n",
       "       [6, 7],\n",
       "       [8, 9]])"
      ]
     },
     "execution_count": 3,
     "metadata": {},
     "output_type": "execute_result"
    }
   ],
   "source": [
    "X = np.arange(10).reshape((5,2))\n",
    "X"
   ]
  },
  {
   "cell_type": "code",
   "execution_count": 5,
   "metadata": {},
   "outputs": [
    {
     "data": {
      "text/plain": [
       "array([0, 1, 2, 3, 4])"
      ]
     },
     "execution_count": 5,
     "metadata": {},
     "output_type": "execute_result"
    }
   ],
   "source": [
    "y = np.arange(5)\n",
    "y"
   ]
  },
  {
   "cell_type": "code",
   "execution_count": 6,
   "metadata": {},
   "outputs": [],
   "source": [
    "from sklearn.model_selection import train_test_split"
   ]
  },
  {
   "cell_type": "code",
   "execution_count": 7,
   "metadata": {},
   "outputs": [],
   "source": [
    "X_train, X_test, y_train, y_test = train_test_split(X, y, test_size=0.33, random_state=42)"
   ]
  },
  {
   "cell_type": "code",
   "execution_count": 8,
   "metadata": {},
   "outputs": [
    {
     "data": {
      "text/plain": [
       "array([[4, 5],\n",
       "       [0, 1],\n",
       "       [6, 7]])"
      ]
     },
     "execution_count": 8,
     "metadata": {},
     "output_type": "execute_result"
    }
   ],
   "source": [
    "X_train"
   ]
  },
  {
   "cell_type": "code",
   "execution_count": 9,
   "metadata": {},
   "outputs": [
    {
     "data": {
      "text/plain": [
       "array([[2, 3],\n",
       "       [8, 9]])"
      ]
     },
     "execution_count": 9,
     "metadata": {},
     "output_type": "execute_result"
    }
   ],
   "source": [
    "X_test"
   ]
  },
  {
   "cell_type": "code",
   "execution_count": 10,
   "metadata": {},
   "outputs": [
    {
     "data": {
      "text/plain": [
       "array([1, 4])"
      ]
     },
     "execution_count": 10,
     "metadata": {},
     "output_type": "execute_result"
    }
   ],
   "source": [
    "y_test"
   ]
  },
  {
   "cell_type": "code",
   "execution_count": 11,
   "metadata": {},
   "outputs": [
    {
     "data": {
      "text/plain": [
       "array([2, 0, 3])"
      ]
     },
     "execution_count": 11,
     "metadata": {},
     "output_type": "execute_result"
    }
   ],
   "source": [
    "y_train"
   ]
  },
  {
   "cell_type": "markdown",
   "metadata": {},
   "source": [
    "- - -\n",
    "\n",
    "### 2. Cross validation generator\n",
    "\n",
    "    - 트레이닝/테스트용 데이터 인덱스를 내보내는 iterator를 출력하는 split 메서드를 제공한다.\n",
    "    \n",
    "    - KFold CV : 데이터 셋을 K개의 subset으로 분리, 1개 test 나머지 train, test가 되는 애를 계속 바꾸면서 데이터 셋 만듬\n",
    "    - Leave One Out(LOO) : 하나의 sample 만을 test로 남긴다.\n",
    "    - Shuffle Split : 중복된 데이터를 허용"
   ]
  },
  {
   "cell_type": "markdown",
   "metadata": {},
   "source": [
    "#### KFold CV"
   ]
  },
  {
   "cell_type": "code",
   "execution_count": 12,
   "metadata": {},
   "outputs": [
    {
     "name": "stdout",
     "output_type": "stream",
     "text": [
      "X:\n",
      "[[  0  10]\n",
      " [ 20  30]\n",
      " [ 40  50]\n",
      " [ 60  70]\n",
      " [ 80  90]\n",
      " [100 110]\n",
      " [120 130]\n",
      " [140 150]\n",
      " [160 170]\n",
      " [180 190]\n",
      " [200 210]\n",
      " [220 230]\n",
      " [240 250]\n",
      " [260 270]\n",
      " [280 290]\n",
      " [300 310]\n",
      " [320 330]\n",
      " [340 350]\n",
      " [360 370]\n",
      " [380 390]]\n",
      "y:\n",
      "[1. 1. 1. 1. 1. 2. 2. 2. 2. 2. 3. 3. 3. 3. 3. 4. 4. 4. 4. 4.]\n"
     ]
    }
   ],
   "source": [
    "N = 5\n",
    "X = np.arange(8 * N).reshape(-1, 2) * 10\n",
    "y = np.hstack([np.ones(N), np.ones(N) * 2, np.ones(N) * 3, np.ones(N) * 4])\n",
    "print(\"X:\\n\", X, sep=\"\")\n",
    "print(\"y:\\n\", y, sep=\"\")"
   ]
  },
  {
   "cell_type": "code",
   "execution_count": 21,
   "metadata": {},
   "outputs": [
    {
     "name": "stdout",
     "output_type": "stream",
     "text": [
      "test index :  [ 1 18 19]\n",
      "............................................................\n",
      "train index :  [ 0  2  3  4  5  6  7  8  9 10 11 12 13 14 15 16 17]\n",
      "============================================================\n",
      "test index :  [ 8 10 17]\n",
      "............................................................\n",
      "train index :  [ 0  1  2  3  4  5  6  7  9 11 12 13 14 15 16 18 19]\n",
      "============================================================\n",
      "test index :  [ 4  6 13]\n",
      "............................................................\n",
      "train index :  [ 0  1  2  3  5  7  8  9 10 11 12 14 15 16 17 18 19]\n",
      "============================================================\n",
      "test index :  [ 2  5 14]\n",
      "............................................................\n",
      "train index :  [ 0  1  3  4  6  7  8  9 10 11 12 13 15 16 17 18 19]\n",
      "============================================================\n",
      "test index :  [ 7  9 16]\n",
      "............................................................\n",
      "train index :  [ 0  1  2  3  4  5  6  8 10 11 12 13 14 15 17 18 19]\n",
      "============================================================\n",
      "test index :  [ 0  3 11]\n",
      "............................................................\n",
      "train index :  [ 1  2  4  5  6  7  8  9 10 12 13 14 15 16 17 18 19]\n",
      "============================================================\n",
      "test index :  [12 15]\n",
      "............................................................\n",
      "train index :  [ 0  1  2  3  4  5  6  7  8  9 10 11 13 14 16 17 18 19]\n",
      "============================================================\n"
     ]
    }
   ],
   "source": [
    "from sklearn.model_selection import KFold\n",
    "\n",
    "cv = KFold(n_splits=7, shuffle=True, random_state=0) # 여기가 핵심\n",
    "\n",
    "for train_index, test_index in cv.split(X):\n",
    "    print(\"test index : \", test_index)\n",
    "    print(\".\"*60)\n",
    "    print(\"train index : \", train_index)\n",
    "    print(\"=\"*60)"
   ]
  },
  {
   "cell_type": "markdown",
   "metadata": {},
   "source": [
    "### Leave One Out(LOO)"
   ]
  },
  {
   "cell_type": "code",
   "execution_count": 16,
   "metadata": {},
   "outputs": [
    {
     "name": "stdout",
     "output_type": "stream",
     "text": [
      "test index :  [0]\n",
      "............................................................\n",
      "train index :  [ 1  2  3  4  5  6  7  8  9 10 11 12 13 14 15 16 17 18 19]\n",
      "============================================================\n",
      "test index :  [1]\n",
      "............................................................\n",
      "train index :  [ 0  2  3  4  5  6  7  8  9 10 11 12 13 14 15 16 17 18 19]\n",
      "============================================================\n",
      "test index :  [2]\n",
      "............................................................\n",
      "train index :  [ 0  1  3  4  5  6  7  8  9 10 11 12 13 14 15 16 17 18 19]\n",
      "============================================================\n",
      "test index :  [3]\n",
      "............................................................\n",
      "train index :  [ 0  1  2  4  5  6  7  8  9 10 11 12 13 14 15 16 17 18 19]\n",
      "============================================================\n",
      "test index :  [4]\n",
      "............................................................\n",
      "train index :  [ 0  1  2  3  5  6  7  8  9 10 11 12 13 14 15 16 17 18 19]\n",
      "============================================================\n",
      "test index :  [5]\n",
      "............................................................\n",
      "train index :  [ 0  1  2  3  4  6  7  8  9 10 11 12 13 14 15 16 17 18 19]\n",
      "============================================================\n",
      "test index :  [6]\n",
      "............................................................\n",
      "train index :  [ 0  1  2  3  4  5  7  8  9 10 11 12 13 14 15 16 17 18 19]\n",
      "============================================================\n",
      "test index :  [7]\n",
      "............................................................\n",
      "train index :  [ 0  1  2  3  4  5  6  8  9 10 11 12 13 14 15 16 17 18 19]\n",
      "============================================================\n",
      "test index :  [8]\n",
      "............................................................\n",
      "train index :  [ 0  1  2  3  4  5  6  7  9 10 11 12 13 14 15 16 17 18 19]\n",
      "============================================================\n",
      "test index :  [9]\n",
      "............................................................\n",
      "train index :  [ 0  1  2  3  4  5  6  7  8 10 11 12 13 14 15 16 17 18 19]\n",
      "============================================================\n",
      "test index :  [10]\n",
      "............................................................\n",
      "train index :  [ 0  1  2  3  4  5  6  7  8  9 11 12 13 14 15 16 17 18 19]\n",
      "============================================================\n",
      "test index :  [11]\n",
      "............................................................\n",
      "train index :  [ 0  1  2  3  4  5  6  7  8  9 10 12 13 14 15 16 17 18 19]\n",
      "============================================================\n",
      "test index :  [12]\n",
      "............................................................\n",
      "train index :  [ 0  1  2  3  4  5  6  7  8  9 10 11 13 14 15 16 17 18 19]\n",
      "============================================================\n",
      "test index :  [13]\n",
      "............................................................\n",
      "train index :  [ 0  1  2  3  4  5  6  7  8  9 10 11 12 14 15 16 17 18 19]\n",
      "============================================================\n",
      "test index :  [14]\n",
      "............................................................\n",
      "train index :  [ 0  1  2  3  4  5  6  7  8  9 10 11 12 13 15 16 17 18 19]\n",
      "============================================================\n",
      "test index :  [15]\n",
      "............................................................\n",
      "train index :  [ 0  1  2  3  4  5  6  7  8  9 10 11 12 13 14 16 17 18 19]\n",
      "============================================================\n",
      "test index :  [16]\n",
      "............................................................\n",
      "train index :  [ 0  1  2  3  4  5  6  7  8  9 10 11 12 13 14 15 17 18 19]\n",
      "============================================================\n",
      "test index :  [17]\n",
      "............................................................\n",
      "train index :  [ 0  1  2  3  4  5  6  7  8  9 10 11 12 13 14 15 16 18 19]\n",
      "============================================================\n",
      "test index :  [18]\n",
      "............................................................\n",
      "train index :  [ 0  1  2  3  4  5  6  7  8  9 10 11 12 13 14 15 16 17 19]\n",
      "============================================================\n",
      "test index :  [19]\n",
      "............................................................\n",
      "train index :  [ 0  1  2  3  4  5  6  7  8  9 10 11 12 13 14 15 16 17 18]\n",
      "============================================================\n"
     ]
    }
   ],
   "source": [
    "from sklearn.model_selection import LeaveOneOut\n",
    "\n",
    "cv = LeaveOneOut() # 여기가 핵심\n",
    "\n",
    "for train_index, test_index in cv.split(X):\n",
    "    print(\"test index : \", test_index)\n",
    "    print(\".\"*60)\n",
    "    print(\"train index : \", train_index)\n",
    "    print(\"=\"*60)"
   ]
  },
  {
   "cell_type": "markdown",
   "metadata": {},
   "source": [
    "### Shuffle Split"
   ]
  },
  {
   "cell_type": "code",
   "execution_count": 23,
   "metadata": {},
   "outputs": [
    {
     "name": "stdout",
     "output_type": "stream",
     "text": [
      "test X:\n",
      " [[360 370]\n",
      " [ 20  30]\n",
      " [380 390]\n",
      " [160 170]\n",
      " [200 210]\n",
      " [340 350]\n",
      " [120 130]\n",
      " [260 270]\n",
      " [ 80  90]\n",
      " [ 40  50]]\n",
      "====================\n",
      "test X:\n",
      " [[220 230]\n",
      " [ 20  30]\n",
      " [360 370]\n",
      " [340 350]\n",
      " [ 40  50]\n",
      " [240 250]\n",
      " [380 390]\n",
      " [320 330]\n",
      " [200 210]\n",
      " [  0  10]]\n",
      "====================\n",
      "test X:\n",
      " [[300 310]\n",
      " [260 270]\n",
      " [240 250]\n",
      " [100 110]\n",
      " [220 230]\n",
      " [ 40  50]\n",
      " [160 170]\n",
      " [120 130]\n",
      " [ 60  70]\n",
      " [340 350]]\n",
      "====================\n",
      "test X:\n",
      " [[360 370]\n",
      " [  0  10]\n",
      " [260 270]\n",
      " [ 40  50]\n",
      " [ 60  70]\n",
      " [340 350]\n",
      " [140 150]\n",
      " [240 250]\n",
      " [280 290]\n",
      " [320 330]]\n",
      "====================\n",
      "test X:\n",
      " [[140 150]\n",
      " [ 20  30]\n",
      " [ 40  50]\n",
      " [380 390]\n",
      " [100 110]\n",
      " [360 370]\n",
      " [160 170]\n",
      " [340 350]\n",
      " [300 310]\n",
      " [320 330]]\n",
      "====================\n"
     ]
    }
   ],
   "source": [
    "from sklearn.model_selection import ShuffleSplit\n",
    "\n",
    "cv = ShuffleSplit(n_splits=5, test_size=.5, random_state=0)\n",
    "\n",
    "for train_index, test_index in cv.split(X):\n",
    "    print(\"test X:\\n\", X[test_index])\n",
    "    print(\"=\" *20)"
   ]
  },
  {
   "cell_type": "markdown",
   "metadata": {},
   "source": [
    "- - -\n",
    "\n",
    "### 3. Cross validation calculation 교차 평가 시행"
   ]
  },
  {
   "cell_type": "markdown",
   "metadata": {},
   "source": [
    "- cv generator는 단순히 데이터 셋을 나누는 역할을 수행\n",
    "- cv calculator로 나누어진 데이터 셋을 이용해서 $R^{2}$의 평균과 분산을 구하는 평가를 반복해야 함\n",
    "\n",
    "`cross_val_score(estimator, X, y=None, scoring=None, cv=None)`"
   ]
  },
  {
   "cell_type": "code",
   "execution_count": 31,
   "metadata": {},
   "outputs": [
    {
     "data": {
      "text/plain": [
       "array([0.48150779, 0.88388748, 0.1119309 , 0.57355877, 0.80187345,\n",
       "       0.75415636, 0.90806019, 0.79230414, 0.71207105, 0.47630251])"
      ]
     },
     "execution_count": 31,
     "metadata": {},
     "output_type": "execute_result"
    }
   ],
   "source": [
    "from sklearn.datasets import make_regression\n",
    "from sklearn.linear_model import LinearRegression\n",
    "from sklearn.metrics import r2_score\n",
    "\n",
    "X, y, coef = make_regression(n_samples=100, n_features=1, noise=20, coef=True, random_state=0)\n",
    "\n",
    "model = LinearRegression()\n",
    "cv = KFold(10)\n",
    "\n",
    "scores = np.zeros(10)\n",
    "\n",
    "for i, (train_index, test_index) in enumerate(cv.split(X)):\n",
    "    X_train = X[train_index]\n",
    "    y_train = y[train_index]\n",
    "    X_test = X[test_index]\n",
    "    y_test = y[test_index]\n",
    "    model.fit(X_train, y_train)\n",
    "    y_pred = model.predict(X_test)\n",
    "    scores[i] = r2_score(y_test, y_pred)\n",
    "\n",
    "scores"
   ]
  },
  {
   "cell_type": "code",
   "execution_count": 33,
   "metadata": {},
   "outputs": [
    {
     "data": {
      "text/plain": [
       "array([0.48150779, 0.88388748, 0.1119309 , 0.57355877, 0.80187345,\n",
       "       0.75415636, 0.90806019, 0.79230414, 0.71207105, 0.47630251])"
      ]
     },
     "execution_count": 33,
     "metadata": {},
     "output_type": "execute_result"
    }
   ],
   "source": [
    "# 위의 복잡한 코드를 아래 코드로 간편하게 할 수 있다.\n",
    "\n",
    "from sklearn.model_selection import cross_val_score\n",
    "\n",
    "cross_val_score(model, X, y, scoring=\"r2\", cv=cv)"
   ]
  }
 ],
 "metadata": {
  "kernelspec": {
   "display_name": "Python 3",
   "language": "python",
   "name": "python3"
  },
  "language_info": {
   "codemirror_mode": {
    "name": "ipython",
    "version": 3
   },
   "file_extension": ".py",
   "mimetype": "text/x-python",
   "name": "python",
   "nbconvert_exporter": "python",
   "pygments_lexer": "ipython3",
   "version": "3.6.5"
  }
 },
 "nbformat": 4,
 "nbformat_minor": 2
}
