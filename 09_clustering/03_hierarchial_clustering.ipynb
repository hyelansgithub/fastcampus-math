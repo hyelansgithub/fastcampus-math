{
 "cells": [
  {
   "cell_type": "markdown",
   "metadata": {},
   "source": [
    "## 01장. 클러스터링\n",
    "### 3. 계층적 클러스터링"
   ]
  },
  {
   "cell_type": "code",
   "execution_count": 2,
   "metadata": {},
   "outputs": [],
   "source": [
    "from scipy.cluster.hierarchy import linkage, dendrogram\n",
    "import numpy as np\n",
    "import matplotlib.pylab as plt"
   ]
  },
  {
   "cell_type": "code",
   "execution_count": 3,
   "metadata": {
    "scrolled": true
   },
   "outputs": [
    {
     "name": "stdout",
     "output_type": "stream",
     "text": [
      "(150, 2)\n"
     ]
    },
    {
     "data": {
      "image/png": "[encoded data removed]",
      "text/plain": [
       "<Figure size 432x288 with 1 Axes>"
      ]
     },
     "metadata": {},
     "output_type": "display_data"
    }
   ],
   "source": [
    "np.set_printoptions(precision=5, suppress=True) \n",
    "\n",
    "np.random.seed(4711)  # for repeatability of this tutorial\n",
    "a = np.random.multivariate_normal([10, 0], [[3, 1], [1, 4]], size=[100,])\n",
    "b = np.random.multivariate_normal([0, 20], [[3, 1], [1, 4]], size=[50,])\n",
    "X = np.concatenate((a, b),)\n",
    "print(X.shape)\n",
    "\n",
    "plt.scatter(X[:,0], X[:,1], s=50)\n",
    "plt.show()"
   ]
  },
  {
   "cell_type": "code",
   "execution_count": 15,
   "metadata": {},
   "outputs": [
    {
     "data": {
      "text/plain": [
       "array([[ 9.21188, -0.15189],\n",
       "       [ 8.88937, -0.33937],\n",
       "       [10.7684 ,  2.95245],\n",
       "       [ 8.24213,  1.29095],\n",
       "       [ 5.7967 , -5.83777],\n",
       "       [ 6.34993,  0.6396 ],\n",
       "       [ 8.10571, -0.45887],\n",
       "       [ 8.72085, -4.40444],\n",
       "       [ 8.83501, -0.39166],\n",
       "       [10.40061,  2.71241],\n",
       "       [11.95503,  1.98603],\n",
       "       [ 8.50142,  0.5035 ],\n",
       "       [ 9.23359,  1.30693],\n",
       "       [12.27768,  1.62764],\n",
       "       [10.95902, -0.12752],\n",
       "       [ 8.72437, -0.73102],\n",
       "       [ 9.64949,  3.41989],\n",
       "       [11.49912, -0.55113],\n",
       "       [11.48256, -0.28623],\n",
       "       [ 8.5874 ,  1.66814],\n",
       "       [11.9557 , -1.27351],\n",
       "       [ 9.85622,  1.08989],\n",
       "       [10.11831,  1.08458],\n",
       "       [ 7.76042,  0.63747],\n",
       "       [10.99794, -2.93747],\n",
       "       [ 6.9085 , -1.44868],\n",
       "       [ 7.85787, -0.99148],\n",
       "       [ 6.12508, -2.44306],\n",
       "       [10.61144, -0.23623],\n",
       "       [11.09217, -1.69984],\n",
       "       [ 7.15907, -0.12267],\n",
       "       [10.73784, -1.63561],\n",
       "       [ 8.23932,  1.55744],\n",
       "       [ 9.83913, -0.4873 ],\n",
       "       [11.26222, -0.17158],\n",
       "       [10.67802, -0.46974],\n",
       "       [13.90816,  2.36856],\n",
       "       [11.21979,  3.35442],\n",
       "       [ 9.08491, -3.38582],\n",
       "       [ 7.77229, -1.2382 ],\n",
       "       [16.36333,  5.24745],\n",
       "       [ 8.81583, -0.56394],\n",
       "       [ 8.13179,  1.87917],\n",
       "       [10.13499, -1.18689],\n",
       "       [ 8.59431,  0.7797 ],\n",
       "       [ 8.98565, -2.72057],\n",
       "       [ 9.86312,  1.75254],\n",
       "       [12.25994,  1.22973],\n",
       "       [12.19145, -0.05196],\n",
       "       [12.3745 , -2.34243],\n",
       "       [ 9.98418,  1.56825],\n",
       "       [ 8.68402, -2.09666],\n",
       "       [10.18803,  0.91404],\n",
       "       [10.21254,  0.88053],\n",
       "       [ 8.402  , -1.40096],\n",
       "       [10.48088, -1.1919 ],\n",
       "       [ 9.35848,  0.70857],\n",
       "       [11.88164,  4.12229],\n",
       "       [10.19448, -2.78018],\n",
       "       [12.23631,  0.93161],\n",
       "       [ 6.86418, -4.03013],\n",
       "       [10.32754, -2.8246 ],\n",
       "       [ 9.97793, -0.56383],\n",
       "       [ 9.6348 , -0.90549],\n",
       "       [ 8.80166, -2.42264],\n",
       "       [ 8.53958,  2.58027],\n",
       "       [10.36697,  2.82031],\n",
       "       [ 7.9081 , -1.8471 ],\n",
       "       [ 9.89349, -0.44152],\n",
       "       [ 8.6953 , -0.62049],\n",
       "       [ 9.30179,  0.10478],\n",
       "       [ 9.85058,  1.35183],\n",
       "       [10.71074,  0.58267],\n",
       "       [11.54574, -0.60518],\n",
       "       [ 8.59349,  2.69294],\n",
       "       [12.34116, -1.76219],\n",
       "       [13.14934,  2.85031],\n",
       "       [ 9.4168 ,  2.70293],\n",
       "       [ 8.91523,  1.06233],\n",
       "       [10.91086, -0.16184],\n",
       "       [10.55486, -1.49158],\n",
       "       [12.63236,  2.22172],\n",
       "       [10.06665, -0.79825],\n",
       "       [12.13005,  2.05003],\n",
       "       [ 7.76127, -0.09679],\n",
       "       [12.49528,  0.7411 ],\n",
       "       [12.92503,  0.56741],\n",
       "       [ 9.36541, -1.40604],\n",
       "       [ 7.79571, -1.44315],\n",
       "       [10.82672, -2.08811],\n",
       "       [11.95397,  1.08769],\n",
       "       [ 6.59948,  0.86934],\n",
       "       [ 9.45548, -2.48749],\n",
       "       [11.00038,  2.6571 ],\n",
       "       [11.00014,  1.25281],\n",
       "       [12.59778,  0.70323],\n",
       "       [ 9.24786,  0.31736],\n",
       "       [ 8.73431, -1.52812],\n",
       "       [ 9.62903, -0.78443],\n",
       "       [13.02959,  3.1222 ],\n",
       "       [ 0.79934, 19.28762],\n",
       "       [-0.84336, 19.14768],\n",
       "       [ 2.68289, 20.28232],\n",
       "       [-1.92578, 16.28116],\n",
       "       [ 0.06693, 23.13071],\n",
       "       [ 1.42543, 20.57584],\n",
       "       [ 0.89064, 20.85059],\n",
       "       [ 0.46998, 19.45692],\n",
       "       [ 0.64147, 21.89409],\n",
       "       [ 0.83048, 17.3592 ],\n",
       "       [-0.18723, 18.88187],\n",
       "       [-2.84504, 18.30168],\n",
       "       [-0.07865, 21.50771],\n",
       "       [ 0.62828, 17.45787],\n",
       "       [ 2.02318, 22.44787],\n",
       "       [ 0.50775, 19.34125],\n",
       "       [-1.55474, 19.69585],\n",
       "       [-2.54958, 20.01232],\n",
       "       [ 0.2621 , 22.16455],\n",
       "       [ 1.43291, 17.48622],\n",
       "       [ 0.47085, 24.08457],\n",
       "       [ 1.47295, 21.63667],\n",
       "       [-2.01973, 17.0863 ],\n",
       "       [ 0.30695, 18.56967],\n",
       "       [-0.17538, 19.50071],\n",
       "       [-1.04773, 14.76553],\n",
       "       [-3.1254 , 18.89846],\n",
       "       [-2.0059 , 22.5818 ],\n",
       "       [ 2.82514, 22.7972 ],\n",
       "       [ 2.93005, 17.32672],\n",
       "       [ 1.37737, 20.96611],\n",
       "       [ 0.60224, 21.99693],\n",
       "       [-0.37393, 20.77203],\n",
       "       [ 0.0071 , 22.47931],\n",
       "       [-0.76543, 19.61954],\n",
       "       [ 0.37375, 20.18765],\n",
       "       [-1.55002, 20.28733],\n",
       "       [ 1.68351, 20.5509 ],\n",
       "       [-0.81116, 18.10299],\n",
       "       [ 1.82078, 22.4209 ],\n",
       "       [-0.97993, 16.10622],\n",
       "       [ 3.83842, 18.73497],\n",
       "       [ 0.35858, 21.10633],\n",
       "       [ 0.16514, 19.55743],\n",
       "       [ 0.87923, 21.66081],\n",
       "       [ 0.13719, 18.78208],\n",
       "       [ 0.88147, 18.27187],\n",
       "       [ 2.71952, 20.75219],\n",
       "       [ 2.02869, 20.20869],\n",
       "       [ 1.82184, 21.0003 ]])"
      ]
     },
     "execution_count": 15,
     "metadata": {},
     "output_type": "execute_result"
    }
   ],
   "source": [
    "X"
   ]
  },
  {
   "cell_type": "code",
   "execution_count": 11,
   "metadata": {},
   "outputs": [],
   "source": [
    "Z = linkage(X, 'ward')"
   ]
  },
  {
   "cell_type": "code",
   "execution_count": 12,
   "metadata": {},
   "outputs": [
    {
     "data": {
      "text/plain": [
       "array([[ 52.     ,  53.     ,   0.04151,   2.     ],\n",
       "       [ 14.     ,  79.     ,   0.05914,   2.     ],\n",
       "       [ 33.     ,  68.     ,   0.07107,   2.     ],\n",
       "       [ 17.     ,  73.     ,   0.07137,   2.     ],\n",
       "       [  1.     ,   8.     ,   0.07543,   2.     ],\n",
       "       [ 85.     ,  95.     ,   0.10928,   2.     ],\n",
       "       [108.     , 131.     ,   0.11007,   2.     ],\n",
       "       [  9.     ,  66.     ,   0.11302,   2.     ],\n",
       "       [ 15.     ,  69.     ,   0.11429,   2.     ],\n",
       "       [ 63.     ,  98.     ,   0.1212 ,   2.     ],\n",
       "       [107.     , 115.     ,   0.12167,   2.     ],\n",
       "       [ 65.     ,  74.     ,   0.1249 ,   2.     ],\n",
       "       [ 58.     ,  61.     ,   0.14028,   2.     ],\n",
       "       [ 62.     , 152.     ,   0.1726 ,   3.     ],\n",
       "       [ 41.     , 158.     ,   0.1779 ,   3.     ],\n",
       "       [ 10.     ,  83.     ,   0.18635,   2.     ],\n",
       "       [114.     , 139.     ,   0.20419,   2.     ],\n",
       "       [ 39.     ,  88.     ,   0.20628,   2.     ],\n",
       "       [ 70.     ,  96.     ,   0.21931,   2.     ],\n",
       "       [ 46.     ,  50.     ,   0.22049,   2.     ]])"
      ]
     },
     "execution_count": 12,
     "metadata": {},
     "output_type": "execute_result"
    }
   ],
   "source": [
    "Z[:20]"
   ]
  },
  {
   "cell_type": "code",
   "execution_count": 7,
   "metadata": {},
   "outputs": [
    {
     "data": {
      "image/png": "[encoded data removed]",
      "text/plain": [
       "<Figure size 720x720 with 1 Axes>"
      ]
     },
     "metadata": {},
     "output_type": "display_data"
    }
   ],
   "source": [
    "idxs = [33, 68, 62, 82, 63, 98]\n",
    "plt.figure(figsize=(10, 10))\n",
    "plt.scatter(X[:,0], X[:,1], s=50)\n",
    "plt.scatter(X[idxs,0], X[idxs,1], c='r', s=100) \n",
    "plt.show()"
   ]
  },
  {
   "cell_type": "code",
   "execution_count": 8,
   "metadata": {},
   "outputs": [
    {
     "data": {
      "text/plain": [
       "array([ 9.83913,  9.89349,  9.97793, 10.06665,  9.6348 ,  9.62903])"
      ]
     },
     "execution_count": 8,
     "metadata": {},
     "output_type": "execute_result"
    }
   ],
   "source": [
    "X[idxs,0]"
   ]
  },
  {
   "cell_type": "code",
   "execution_count": null,
   "metadata": {},
   "outputs": [],
   "source": []
  }
 ],
 "metadata": {
  "kernelspec": {
   "display_name": "Python 3",
   "language": "python",
   "name": "python3"
  },
  "language_info": {
   "codemirror_mode": {
    "name": "ipython",
    "version": 3
   },
   "file_extension": ".py",
   "mimetype": "text/x-python",
   "name": "python",
   "nbconvert_exporter": "python",
   "pygments_lexer": "ipython3",
   "version": "3.6.5"
  }
 },
 "nbformat": 4,
 "nbformat_minor": 2
}
