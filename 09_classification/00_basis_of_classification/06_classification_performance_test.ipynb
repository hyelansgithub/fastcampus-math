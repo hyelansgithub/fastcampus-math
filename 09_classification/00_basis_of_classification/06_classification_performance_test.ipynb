{
 "cells": [
  {
   "cell_type": "markdown",
   "metadata": {},
   "source": [
    "## Scikit-Learn을 사용한 머신러닝\n",
    "\n",
    "## 01장. 분류의 기초\n",
    "### 6. 분류 성능 평가\n",
    "\n",
    "    - Confusion Matrix : 원래는 row, 예측은 column\n",
    "        - Binary Confusion Matrix : 클래스가 0, 1 두종류만 있는 경우\n",
    "    - 평가점수\n",
    "        - Accuracy\n",
    "        - Precision\n",
    "        - Recall\n",
    "        - Fall-out\n",
    "        - F1 score\n",
    "    - ROC 커브\n",
    "    - AUC 커브 : ROC 커브의 면적"
   ]
  },
  {
   "cell_type": "markdown",
   "metadata": {},
   "source": [
    "### Confusion Matrix"
   ]
  },
  {
   "cell_type": "code",
   "execution_count": 1,
   "metadata": {},
   "outputs": [],
   "source": [
    "from sklearn.metrics import confusion_matrix"
   ]
  },
  {
   "cell_type": "code",
   "execution_count": 2,
   "metadata": {},
   "outputs": [
    {
     "data": {
      "text/plain": [
       "array([[2, 0, 0],\n",
       "       [0, 0, 1],\n",
       "       [1, 0, 2]])"
      ]
     },
     "execution_count": 2,
     "metadata": {},
     "output_type": "execute_result"
    }
   ],
   "source": [
    "y_true = [2, 0, 2, 2, 0, 1]\n",
    "y_pred = [0, 0, 2, 2, 0, 2]\n",
    "\n",
    "confusion_matrix(y_true, y_pred)\n",
    "\n",
    "# 진짜 0은 2개, 1은 1개, 2는 3개"
   ]
  },
  {
   "cell_type": "markdown",
   "metadata": {},
   "source": [
    "### Binary Confusion Metrix\n",
    "\n",
    "    클래스가 0과 1 두 종류 밖에 없는 경우에는 일반적으로 클래스 이름을 \"Positive\"와 \"Negative\"로 표시한다. 조금 더 희귀한 경우를 1 positive로 둔다."
   ]
  },
  {
   "cell_type": "markdown",
   "metadata": {},
   "source": [
    "### 평가 점수\n",
    "\n",
    "    - Accuracy 정확도 : 맞춘것/전체\n",
    "\n",
    "    - Precision : 실제 P / 예측 P\n",
    "\n",
    "    - Recall : 예측 P/ 실제 P\n",
    "\n",
    "    - Fall out : 예측 P / 실제 N\n",
    "\n",
    "    - F1 score : 2 (precision*recall) / precision+recall, 가중 조화 평균 둘중 큰값보다 작은 값으로 더 가깝게 측정이 된다.\n"
   ]
  },
  {
   "cell_type": "markdown",
   "metadata": {},
   "source": [
    "    sklearn 의 metrics 패키지에서 precision, recall, F1 score 를 구하는 classification_report 명령을 제공한다.\n",
    "    \n",
    "    각각의 클래스를 양성으로 보았을 때의 정밀도 재현율 F1 스코어 구하고 평균값으로 전체 모형의 성능을 평가한다.\n",
    "    \n",
    "    다중 클래스의 경우 전체 모형에 대해 정밀도, 재현율, 위양성률 구할 수 없기 때문에 OvR 문제를 풀고 각각에 대해 값을 구한다."
   ]
  },
  {
   "cell_type": "code",
   "execution_count": 8,
   "metadata": {},
   "outputs": [],
   "source": [
    "from sklearn.metrics import confusion_matrix\n",
    "from sklearn.metrics import classification_report"
   ]
  },
  {
   "cell_type": "code",
   "execution_count": 10,
   "metadata": {},
   "outputs": [],
   "source": [
    "y_true = [0, 0, 0, 1, 1, 0, 0]\n",
    "y_pred = [0, 0, 0, 0, 1, 1, 1]"
   ]
  },
  {
   "cell_type": "code",
   "execution_count": 11,
   "metadata": {},
   "outputs": [
    {
     "data": {
      "text/plain": [
       "array([[3, 2],\n",
       "       [1, 1]])"
      ]
     },
     "execution_count": 11,
     "metadata": {},
     "output_type": "execute_result"
    }
   ],
   "source": [
    "confusion_matrix(y_true, y_pred)"
   ]
  },
  {
   "cell_type": "code",
   "execution_count": 9,
   "metadata": {},
   "outputs": [
    {
     "name": "stdout",
     "output_type": "stream",
     "text": [
      "             precision    recall  f1-score   support\n",
      "\n",
      "    calss 0       0.75      0.60      0.67         5\n",
      "     class1       0.33      0.50      0.40         2\n",
      "\n",
      "avg / total       0.63      0.57      0.59         7\n",
      "\n"
     ]
    }
   ],
   "source": [
    "print(classification_report(y_true, y_pred, target_names=['class 0', 'class1']))"
   ]
  },
  {
   "cell_type": "code",
   "execution_count": 39,
   "metadata": {},
   "outputs": [
    {
     "name": "stdout",
     "output_type": "stream",
     "text": [
      "             precision    recall  f1-score   support\n",
      "\n",
      "    class 0       1.00      1.00      1.00         2\n",
      "    class 1       0.50      0.50      0.50         2\n",
      "    class 2       0.67      0.67      0.67         3\n",
      "\n",
      "avg / total       0.71      0.71      0.71         7\n",
      "\n"
     ]
    }
   ],
   "source": [
    "y_true = [0, 0, 1, 1, 2, 2, 2]\n",
    "y_pred = [0, 0, 1, 2, 2, 2, 1]\n",
    "target_names = ['class 0', 'class 1', 'class 2']\n",
    "print(classification_report(y_true, y_pred, target_names = target_names))"
   ]
  },
  {
   "cell_type": "code",
   "execution_count": null,
   "metadata": {},
   "outputs": [],
   "source": []
  }
 ],
 "metadata": {
  "kernelspec": {
   "display_name": "Python 3",
   "language": "python",
   "name": "python3"
  },
  "language_info": {
   "codemirror_mode": {
    "name": "ipython",
    "version": 3
   },
   "file_extension": ".py",
   "mimetype": "text/x-python",
   "name": "python",
   "nbconvert_exporter": "python",
   "pygments_lexer": "ipython3",
   "version": "3.6.5"
  }
 },
 "nbformat": 4,
 "nbformat_minor": 2
}
