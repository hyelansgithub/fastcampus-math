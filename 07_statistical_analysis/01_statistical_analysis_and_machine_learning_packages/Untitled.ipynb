{
 "cells": [
  {
   "cell_type": "code",
   "execution_count": 1,
   "metadata": {},
   "outputs": [
    {
     "name": "stderr",
     "output_type": "stream",
     "text": [
      "/usr/local/lib/python3.6/site-packages/statsmodels/compat/pandas.py:56: FutureWarning: The pandas.core.datetools module is deprecated and will be removed in a future version. Please use the pandas.tseries module instead.\n",
      "  from pandas.core import datetools\n"
     ]
    }
   ],
   "source": [
    "import statsmodels.api as sm\n",
    "import statsmodels.formula.api as smf\n",
    "import statsmodels.stats.api as sms"
   ]
  },
  {
   "cell_type": "markdown",
   "metadata": {},
   "source": [
    "복잡한 시계열 분석은 statsmodel에서밖에 제공하지 않는다.\n",
    "R보다 방대해짐\n",
    "큰패키지-서브패키지-엘리먼트-\n",
    "matplotlib - pylab(쉽게 사용할 수 있도록 도와주는 api) - plt\n",
    "statsmodel - api()\n",
    "\n",
    "import statsmodels.api as sm (대부분 이거 사용할 것)\n",
    "import statsmodels.formula.api as smf\n",
    "import statsmodels.stats.api as sms\n",
    "\n",
    "책에 있는 내용이 구현이 다 안되서 계속 개발 되고 있는 패키지이다.\n",
    "\n",
    "샘플 데이터 사용법에 대해서 배울 것\n",
    "\n",
    "R에 사용하는 패키지들을 그대로 파이썬에서 사용가능할 수 있도록 하는 것이기 때문에 명령어들이 비슷하다.\n",
    "\n",
    "R 데이터 가지고 온다. 모두 가지고 오기 힘드니까 로드해서 임포트 해오는 형태로 되어있다.\n",
    "\n",
    "샘플 코드 R에서 가지고 온 것이라서 그대로 사용하면 안된다.\n",
    "시계열 분석시 R에서 많이 가지고 와서 연습할 것\n",
    "\n",
    "data, doc 두가지가 있다."
   ]
  },
  {
   "cell_type": "code",
   "execution_count": 2,
   "metadata": {},
   "outputs": [],
   "source": [
    "data = sm.datasets.get_rdataset(\"Titanic\", package=\"datasets\")"
   ]
  },
  {
   "cell_type": "code",
   "execution_count": 5,
   "metadata": {},
   "outputs": [
    {
     "data": {
      "text/html": [
       "<div>\n",
       "<style scoped>\n",
       "    .dataframe tbody tr th:only-of-type {\n",
       "        vertical-align: middle;\n",
       "    }\n",
       "\n",
       "    .dataframe tbody tr th {\n",
       "        vertical-align: top;\n",
       "    }\n",
       "\n",
       "    .dataframe thead th {\n",
       "        text-align: right;\n",
       "    }\n",
       "</style>\n",
       "<table border=\"1\" class=\"dataframe\">\n",
       "  <thead>\n",
       "    <tr style=\"text-align: right;\">\n",
       "      <th></th>\n",
       "      <th>Class</th>\n",
       "      <th>Sex</th>\n",
       "      <th>Age</th>\n",
       "      <th>Survived</th>\n",
       "      <th>Freq</th>\n",
       "    </tr>\n",
       "  </thead>\n",
       "  <tbody>\n",
       "    <tr>\n",
       "      <th>0</th>\n",
       "      <td>1st</td>\n",
       "      <td>Male</td>\n",
       "      <td>Child</td>\n",
       "      <td>No</td>\n",
       "      <td>0</td>\n",
       "    </tr>\n",
       "    <tr>\n",
       "      <th>1</th>\n",
       "      <td>2nd</td>\n",
       "      <td>Male</td>\n",
       "      <td>Child</td>\n",
       "      <td>No</td>\n",
       "      <td>0</td>\n",
       "    </tr>\n",
       "    <tr>\n",
       "      <th>2</th>\n",
       "      <td>3rd</td>\n",
       "      <td>Male</td>\n",
       "      <td>Child</td>\n",
       "      <td>No</td>\n",
       "      <td>35</td>\n",
       "    </tr>\n",
       "    <tr>\n",
       "      <th>3</th>\n",
       "      <td>Crew</td>\n",
       "      <td>Male</td>\n",
       "      <td>Child</td>\n",
       "      <td>No</td>\n",
       "      <td>0</td>\n",
       "    </tr>\n",
       "    <tr>\n",
       "      <th>4</th>\n",
       "      <td>1st</td>\n",
       "      <td>Female</td>\n",
       "      <td>Child</td>\n",
       "      <td>No</td>\n",
       "      <td>0</td>\n",
       "    </tr>\n",
       "    <tr>\n",
       "      <th>5</th>\n",
       "      <td>2nd</td>\n",
       "      <td>Female</td>\n",
       "      <td>Child</td>\n",
       "      <td>No</td>\n",
       "      <td>0</td>\n",
       "    </tr>\n",
       "    <tr>\n",
       "      <th>6</th>\n",
       "      <td>3rd</td>\n",
       "      <td>Female</td>\n",
       "      <td>Child</td>\n",
       "      <td>No</td>\n",
       "      <td>17</td>\n",
       "    </tr>\n",
       "    <tr>\n",
       "      <th>7</th>\n",
       "      <td>Crew</td>\n",
       "      <td>Female</td>\n",
       "      <td>Child</td>\n",
       "      <td>No</td>\n",
       "      <td>0</td>\n",
       "    </tr>\n",
       "    <tr>\n",
       "      <th>8</th>\n",
       "      <td>1st</td>\n",
       "      <td>Male</td>\n",
       "      <td>Adult</td>\n",
       "      <td>No</td>\n",
       "      <td>118</td>\n",
       "    </tr>\n",
       "    <tr>\n",
       "      <th>9</th>\n",
       "      <td>2nd</td>\n",
       "      <td>Male</td>\n",
       "      <td>Adult</td>\n",
       "      <td>No</td>\n",
       "      <td>154</td>\n",
       "    </tr>\n",
       "    <tr>\n",
       "      <th>10</th>\n",
       "      <td>3rd</td>\n",
       "      <td>Male</td>\n",
       "      <td>Adult</td>\n",
       "      <td>No</td>\n",
       "      <td>387</td>\n",
       "    </tr>\n",
       "    <tr>\n",
       "      <th>11</th>\n",
       "      <td>Crew</td>\n",
       "      <td>Male</td>\n",
       "      <td>Adult</td>\n",
       "      <td>No</td>\n",
       "      <td>670</td>\n",
       "    </tr>\n",
       "    <tr>\n",
       "      <th>12</th>\n",
       "      <td>1st</td>\n",
       "      <td>Female</td>\n",
       "      <td>Adult</td>\n",
       "      <td>No</td>\n",
       "      <td>4</td>\n",
       "    </tr>\n",
       "    <tr>\n",
       "      <th>13</th>\n",
       "      <td>2nd</td>\n",
       "      <td>Female</td>\n",
       "      <td>Adult</td>\n",
       "      <td>No</td>\n",
       "      <td>13</td>\n",
       "    </tr>\n",
       "    <tr>\n",
       "      <th>14</th>\n",
       "      <td>3rd</td>\n",
       "      <td>Female</td>\n",
       "      <td>Adult</td>\n",
       "      <td>No</td>\n",
       "      <td>89</td>\n",
       "    </tr>\n",
       "    <tr>\n",
       "      <th>15</th>\n",
       "      <td>Crew</td>\n",
       "      <td>Female</td>\n",
       "      <td>Adult</td>\n",
       "      <td>No</td>\n",
       "      <td>3</td>\n",
       "    </tr>\n",
       "    <tr>\n",
       "      <th>16</th>\n",
       "      <td>1st</td>\n",
       "      <td>Male</td>\n",
       "      <td>Child</td>\n",
       "      <td>Yes</td>\n",
       "      <td>5</td>\n",
       "    </tr>\n",
       "    <tr>\n",
       "      <th>17</th>\n",
       "      <td>2nd</td>\n",
       "      <td>Male</td>\n",
       "      <td>Child</td>\n",
       "      <td>Yes</td>\n",
       "      <td>11</td>\n",
       "    </tr>\n",
       "    <tr>\n",
       "      <th>18</th>\n",
       "      <td>3rd</td>\n",
       "      <td>Male</td>\n",
       "      <td>Child</td>\n",
       "      <td>Yes</td>\n",
       "      <td>13</td>\n",
       "    </tr>\n",
       "    <tr>\n",
       "      <th>19</th>\n",
       "      <td>Crew</td>\n",
       "      <td>Male</td>\n",
       "      <td>Child</td>\n",
       "      <td>Yes</td>\n",
       "      <td>0</td>\n",
       "    </tr>\n",
       "    <tr>\n",
       "      <th>20</th>\n",
       "      <td>1st</td>\n",
       "      <td>Female</td>\n",
       "      <td>Child</td>\n",
       "      <td>Yes</td>\n",
       "      <td>1</td>\n",
       "    </tr>\n",
       "    <tr>\n",
       "      <th>21</th>\n",
       "      <td>2nd</td>\n",
       "      <td>Female</td>\n",
       "      <td>Child</td>\n",
       "      <td>Yes</td>\n",
       "      <td>13</td>\n",
       "    </tr>\n",
       "    <tr>\n",
       "      <th>22</th>\n",
       "      <td>3rd</td>\n",
       "      <td>Female</td>\n",
       "      <td>Child</td>\n",
       "      <td>Yes</td>\n",
       "      <td>14</td>\n",
       "    </tr>\n",
       "    <tr>\n",
       "      <th>23</th>\n",
       "      <td>Crew</td>\n",
       "      <td>Female</td>\n",
       "      <td>Child</td>\n",
       "      <td>Yes</td>\n",
       "      <td>0</td>\n",
       "    </tr>\n",
       "    <tr>\n",
       "      <th>24</th>\n",
       "      <td>1st</td>\n",
       "      <td>Male</td>\n",
       "      <td>Adult</td>\n",
       "      <td>Yes</td>\n",
       "      <td>57</td>\n",
       "    </tr>\n",
       "    <tr>\n",
       "      <th>25</th>\n",
       "      <td>2nd</td>\n",
       "      <td>Male</td>\n",
       "      <td>Adult</td>\n",
       "      <td>Yes</td>\n",
       "      <td>14</td>\n",
       "    </tr>\n",
       "    <tr>\n",
       "      <th>26</th>\n",
       "      <td>3rd</td>\n",
       "      <td>Male</td>\n",
       "      <td>Adult</td>\n",
       "      <td>Yes</td>\n",
       "      <td>75</td>\n",
       "    </tr>\n",
       "    <tr>\n",
       "      <th>27</th>\n",
       "      <td>Crew</td>\n",
       "      <td>Male</td>\n",
       "      <td>Adult</td>\n",
       "      <td>Yes</td>\n",
       "      <td>192</td>\n",
       "    </tr>\n",
       "    <tr>\n",
       "      <th>28</th>\n",
       "      <td>1st</td>\n",
       "      <td>Female</td>\n",
       "      <td>Adult</td>\n",
       "      <td>Yes</td>\n",
       "      <td>140</td>\n",
       "    </tr>\n",
       "    <tr>\n",
       "      <th>29</th>\n",
       "      <td>2nd</td>\n",
       "      <td>Female</td>\n",
       "      <td>Adult</td>\n",
       "      <td>Yes</td>\n",
       "      <td>80</td>\n",
       "    </tr>\n",
       "    <tr>\n",
       "      <th>30</th>\n",
       "      <td>3rd</td>\n",
       "      <td>Female</td>\n",
       "      <td>Adult</td>\n",
       "      <td>Yes</td>\n",
       "      <td>76</td>\n",
       "    </tr>\n",
       "    <tr>\n",
       "      <th>31</th>\n",
       "      <td>Crew</td>\n",
       "      <td>Female</td>\n",
       "      <td>Adult</td>\n",
       "      <td>Yes</td>\n",
       "      <td>20</td>\n",
       "    </tr>\n",
       "  </tbody>\n",
       "</table>\n",
       "</div>"
      ],
      "text/plain": [
       "   Class     Sex    Age Survived  Freq\n",
       "0    1st    Male  Child       No     0\n",
       "1    2nd    Male  Child       No     0\n",
       "2    3rd    Male  Child       No    35\n",
       "3   Crew    Male  Child       No     0\n",
       "4    1st  Female  Child       No     0\n",
       "5    2nd  Female  Child       No     0\n",
       "6    3rd  Female  Child       No    17\n",
       "7   Crew  Female  Child       No     0\n",
       "8    1st    Male  Adult       No   118\n",
       "9    2nd    Male  Adult       No   154\n",
       "10   3rd    Male  Adult       No   387\n",
       "11  Crew    Male  Adult       No   670\n",
       "12   1st  Female  Adult       No     4\n",
       "13   2nd  Female  Adult       No    13\n",
       "14   3rd  Female  Adult       No    89\n",
       "15  Crew  Female  Adult       No     3\n",
       "16   1st    Male  Child      Yes     5\n",
       "17   2nd    Male  Child      Yes    11\n",
       "18   3rd    Male  Child      Yes    13\n",
       "19  Crew    Male  Child      Yes     0\n",
       "20   1st  Female  Child      Yes     1\n",
       "21   2nd  Female  Child      Yes    13\n",
       "22   3rd  Female  Child      Yes    14\n",
       "23  Crew  Female  Child      Yes     0\n",
       "24   1st    Male  Adult      Yes    57\n",
       "25   2nd    Male  Adult      Yes    14\n",
       "26   3rd    Male  Adult      Yes    75\n",
       "27  Crew    Male  Adult      Yes   192\n",
       "28   1st  Female  Adult      Yes   140\n",
       "29   2nd  Female  Adult      Yes    80\n",
       "30   3rd  Female  Adult      Yes    76\n",
       "31  Crew  Female  Adult      Yes    20"
      ]
     },
     "execution_count": 5,
     "metadata": {},
     "output_type": "execute_result"
    }
   ],
   "source": [
    "data.data"
   ]
  },
  {
   "cell_type": "code",
   "execution_count": 6,
   "metadata": {},
   "outputs": [
    {
     "data": {
      "text/plain": [
       "'+---------+-----------------+\\n| Titanic | R Documentation |\\n+---------+-----------------+\\n\\nSurvival of passengers on the Titanic\\n-------------------------------------\\n\\nDescription\\n~~~~~~~~~~~\\n\\nThis data set provides information on the fate of passengers on the\\nfatal maiden voyage of the ocean liner ‘Titanic’, summarized according\\nto economic status (class), sex, age and survival.\\n\\nUsage\\n~~~~~\\n\\n::\\n\\n    Titanic\\n\\nFormat\\n~~~~~~\\n\\nA 4-dimensional array resulting from cross-tabulating 2201 observations\\non 4 variables. The variables and their levels are as follows:\\n\\n+----+----------+---------------------+\\n| No | Name     | Levels              |\\n+----+----------+---------------------+\\n| 1  | Class    | 1st, 2nd, 3rd, Crew |\\n+----+----------+---------------------+\\n| 2  | Sex      | Male, Female        |\\n+----+----------+---------------------+\\n| 3  | Age      | Child, Adult        |\\n+----+----------+---------------------+\\n| 4  | Survived | No, Yes             |\\n+----+----------+---------------------+\\n\\nDetails\\n~~~~~~~\\n\\nThe sinking of the Titanic is a famous event, and new books are still\\nbeing published about it. Many well-known facts—from the proportions of\\nfirst-class passengers to the ‘women and children first’ policy, and the\\nfact that that policy was not entirely successful in saving the women\\nand children in the third class—are reflected in the survival rates for\\nvarious classes of passenger.\\n\\nThese data were originally collected by the British Board of Trade in\\ntheir investigation of the sinking. Note that there is not complete\\nagreement among primary sources as to the exact numbers on board,\\nrescued, or lost.\\n\\nDue in particular to the very successful film ‘Titanic’, the last years\\nsaw a rise in public interest in the Titanic. Very detailed data about\\nthe passengers is now available on the Internet, at sites such as\\n*Encyclopedia Titanica* (http://www.rmplc.co.uk/eduweb/sites/phind).\\n\\nSource\\n~~~~~~\\n\\nDawson, Robert J. MacG. (1995), The ‘Unusual Episode’ Data Revisited.\\n*Journal of Statistics Education*, **3**.\\nhttps://www.amstat.org/publications/jse/v3n3/datasets.dawson.html\\n\\nThe source provides a data set recording class, sex, age, and survival\\nstatus for each person on board of the Titanic, and is based on data\\noriginally collected by the British Board of Trade and reprinted in:\\n\\nBritish Board of Trade (1990), *Report on the Loss of the ‘Titanic’\\n(S.S.)*. British Board of Trade Inquiry Report (reprint). Gloucester,\\nUK: Allan Sutton Publishing.\\n\\nExamples\\n~~~~~~~~\\n\\n::\\n\\n    require(graphics)\\n    mosaicplot(Titanic, main = \"Survival on the Titanic\")\\n    ## Higher survival rates in children?\\n    apply(Titanic, c(3, 4), sum)\\n    ## Higher survival rates in females?\\n    apply(Titanic, c(2, 4), sum)\\n    ## Use loglm() in package \\'MASS\\' for further analysis ...\\n'"
      ]
     },
     "execution_count": 6,
     "metadata": {},
     "output_type": "execute_result"
    }
   ],
   "source": [
    "data.__doc__"
   ]
  },
  {
   "cell_type": "code",
   "execution_count": 7,
   "metadata": {},
   "outputs": [],
   "source": [
    "data = sm.datasets.get_rdataset(\"precip\")"
   ]
  },
  {
   "cell_type": "code",
   "execution_count": 8,
   "metadata": {},
   "outputs": [
    {
     "data": {
      "text/plain": [
       "<class 'statsmodels.datasets.utils.Dataset'>"
      ]
     },
     "execution_count": 8,
     "metadata": {},
     "output_type": "execute_result"
    }
   ],
   "source": [
    "data"
   ]
  },
  {
   "cell_type": "code",
   "execution_count": null,
   "metadata": {},
   "outputs": [],
   "source": [
    "# 호르몬 : 조금 느리게 움직여서 위에나 아래에 조금 머물러 있는 시간이 오래 있어서 자기가 있는 값 근처 값이 예측 된다.\n",
    "# 호흡기 질환 사망자 : 예측이 잘 된다. 계절적 요인을 가지고 있다.\n",
    "# 항공 운송 데이터 : 예측 잘 된다. \n",
    "# 문제 자체가 예측이 잘 되냐 안되냐에 따라서 예측이"
   ]
  },
  {
   "cell_type": "markdown",
   "metadata": {},
   "source": [
    "- - -\n",
    "### Scikit-Learn 패키지 소개\n"
   ]
  },
  {
   "cell_type": "code",
   "execution_count": null,
   "metadata": {},
   "outputs": [],
   "source": [
    "연구자들 사이에서 python 사용량이 늘어나서 공학 및 수학 분야들을 파이썬으로 옮겨 만들면서 scikit 시리즈 많이 만들어졌지만\n",
    "지금까지 잘 사용되는 건 scikit learn, 교육용으로 만들어진 것이라 대부분의 것 다루고 있다.\n",
    "\n",
    "비지도학습 : x 데이터만으로도 분석 할 수 있도록\n",
    "    \n",
    "load : 패키지 다운로드 시 함께 다운로드 \n",
    "fetch : 용량 너무 커서 인터넷으로 다운로드, 한번 cash dir로 다운받고 로드해서 사용한다. 한번만 인터넷 연결되면 된다.\n",
    "make : 특성을 가진 가상의 데이터 필요할때 만들어주는 명령\n",
    "    \n",
    "Bunch안에 필수로 들어있다 이거 두개 (data, target,) feature_name, target_name, DESCR(documentation)\n",
    "\n",
    "x, y 데이터 자체만 있고 feature_name 문자열 리스트"
   ]
  },
  {
   "cell_type": "code",
   "execution_count": 9,
   "metadata": {},
   "outputs": [
    {
     "name": "stdout",
     "output_type": "stream",
     "text": [
      "Boston House Prices dataset\n",
      "===========================\n",
      "\n",
      "Notes\n",
      "------\n",
      "Data Set Characteristics:  \n",
      "\n",
      "    :Number of Instances: 506 \n",
      "\n",
      "    :Number of Attributes: 13 numeric/categorical predictive\n",
      "    \n",
      "    :Median Value (attribute 14) is usually the target\n",
      "\n",
      "    :Attribute Information (in order):\n",
      "        - CRIM     per capita crime rate by town\n",
      "        - ZN       proportion of residential land zoned for lots over 25,000 sq.ft.\n",
      "        - INDUS    proportion of non-retail business acres per town\n",
      "        - CHAS     Charles River dummy variable (= 1 if tract bounds river; 0 otherwise)\n",
      "        - NOX      nitric oxides concentration (parts per 10 million)\n",
      "        - RM       average number of rooms per dwelling\n",
      "        - AGE      proportion of owner-occupied units built prior to 1940\n",
      "        - DIS      weighted distances to five Boston employment centres\n",
      "        - RAD      index of accessibility to radial highways\n",
      "        - TAX      full-value property-tax rate per $10,000\n",
      "        - PTRATIO  pupil-teacher ratio by town\n",
      "        - B        1000(Bk - 0.63)^2 where Bk is the proportion of blacks by town\n",
      "        - LSTAT    % lower status of the population\n",
      "        - MEDV     Median value of owner-occupied homes in $1000's\n",
      "\n",
      "    :Missing Attribute Values: None\n",
      "\n",
      "    :Creator: Harrison, D. and Rubinfeld, D.L.\n",
      "\n",
      "This is a copy of UCI ML housing dataset.\n",
      "http://archive.ics.uci.edu/ml/datasets/Housing\n",
      "\n",
      "\n",
      "This dataset was taken from the StatLib library which is maintained at Carnegie Mellon University.\n",
      "\n",
      "The Boston house-price data of Harrison, D. and Rubinfeld, D.L. 'Hedonic\n",
      "prices and the demand for clean air', J. Environ. Economics & Management,\n",
      "vol.5, 81-102, 1978.   Used in Belsley, Kuh & Welsch, 'Regression diagnostics\n",
      "...', Wiley, 1980.   N.B. Various transformations are used in the table on\n",
      "pages 244-261 of the latter.\n",
      "\n",
      "The Boston house-price data has been used in many machine learning papers that address regression\n",
      "problems.   \n",
      "     \n",
      "**References**\n",
      "\n",
      "   - Belsley, Kuh & Welsch, 'Regression diagnostics: Identifying Influential Data and Sources of Collinearity', Wiley, 1980. 244-261.\n",
      "   - Quinlan,R. (1993). Combining Instance-Based and Model-Based Learning. In Proceedings on the Tenth International Conference of Machine Learning, 236-243, University of Massachusetts, Amherst. Morgan Kaufmann.\n",
      "   - many more! (see http://archive.ics.uci.edu/ml/datasets/Housing)\n",
      "\n"
     ]
    }
   ],
   "source": [
    "from sklearn.datasets import load_boston\n",
    "boston = load_boston() # boston : bunch \n",
    "print(boston.DESCR)"
   ]
  },
  {
   "cell_type": "markdown",
   "metadata": {},
   "source": [
    "load한 data frame 형태로 만들어서 사용할 것\n",
    "x, y 를 하나의 df로 만들어서 분석하는 경우가 많아서 두개를 붙인다.\n",
    "MEDV라는 것 \n",
    "1. 데이터를 눈으로 본다. 머리나 꼬리를 끊어서 본다. tail() : 데이터 갯수를 알 수 있다.\n",
    "2. 깨끗하게 정리되어서 나오지 않는다. 구멍이 뚫리거나 미렬있거나, 글자가 들어 있거나 하나씩 보면서 정리한다. cleaning 해야한다.\n",
    "3. 실수/카테고리 값인지 알아야 한다. 카테고리값을 숫자로 적어놓은 것도 있어서 숫자로 인식 할 수도 있기 때문에 0, 1 이런 값들 카테고리일 가능성 있기 때문에 판단해야한다.\n",
    "4. 전체 분포가 어떤 모양을 가지는지, 평균, 분산 describe 명령 사용하면 대략적으로 어떤 데이터인지 그림을 그려야 한다.\n",
    "5. 1000개 넘으면 하나씩 보기 힘드니까 describe를 통해서라도 봐야하고 시간내서 최대한 많이 뜯어보려고 노력해야한다.\n",
    "6. describe 의 count 데이터 구멍 난 것 - 2가지 방법 (채우거나, 버리거나) 중요하면 채우고 여러 상황을 봤을 때 버려도 되면 버리고\n",
    "7. 평균mean 분산std 4분위 수를 봐야 전체 모양이 잡힌다. min~ 77% max  시멘트릭한가 아닌가 알 수 있다. 더 알고 싶으면 히스토그램 그려보면 알 수 있다. 대부분 하나씩 히스토그램을 그리는데\n",
    "8. 모두 그리기 힘들때 pairplot 사용한다. columns 너무 많으면 잘라서라도 다 봐야한다. pairplot의 upper triangle만 보면된다 대칭이라서 특징들을 노트해 놓는다. 또한 숫자랑 같이 봐야한다. 히스토그램 (정규분포, 시매트릭, 바운딩(어디가 막혀있는 데이터인지 알아야한다. 가격 0보다 작은값없다.))\n",
    "9. correlation coefficient 대충 생각해봐야하고, 휘어져 있는지 아닌지 봐야한다.(선형인가 아닌가) 변수 변환을 통해서 선형으로 바꿀 수 도 있다.\n",
    "10. outlier 의 유무 다른 데이터랑 어울리지 않는 것 pairplot의 3,4 번째 애들 "
   ]
  },
  {
   "cell_type": "code",
   "execution_count": null,
   "metadata": {},
   "outputs": [],
   "source": [
    "target name 없으면 xn 으로 집어넣는다.\n",
    "일직선으로 나오는 것 카테고리 데이터"
   ]
  },
  {
   "cell_type": "code",
   "execution_count": 11,
   "metadata": {},
   "outputs": [],
   "source": [
    "import pandas as pd"
   ]
  },
  {
   "cell_type": "code",
   "execution_count": 12,
   "metadata": {},
   "outputs": [
    {
     "data": {
      "text/html": [
       "<div>\n",
       "<style scoped>\n",
       "    .dataframe tbody tr th:only-of-type {\n",
       "        vertical-align: middle;\n",
       "    }\n",
       "\n",
       "    .dataframe tbody tr th {\n",
       "        vertical-align: top;\n",
       "    }\n",
       "\n",
       "    .dataframe thead th {\n",
       "        text-align: right;\n",
       "    }\n",
       "</style>\n",
       "<table border=\"1\" class=\"dataframe\">\n",
       "  <thead>\n",
       "    <tr style=\"text-align: right;\">\n",
       "      <th></th>\n",
       "      <th>CRIM</th>\n",
       "      <th>ZN</th>\n",
       "      <th>INDUS</th>\n",
       "      <th>CHAS</th>\n",
       "      <th>NOX</th>\n",
       "      <th>RM</th>\n",
       "      <th>AGE</th>\n",
       "      <th>DIS</th>\n",
       "      <th>RAD</th>\n",
       "      <th>TAX</th>\n",
       "      <th>PTRATIO</th>\n",
       "      <th>B</th>\n",
       "      <th>LSTAT</th>\n",
       "      <th>MEDV</th>\n",
       "    </tr>\n",
       "  </thead>\n",
       "  <tbody>\n",
       "    <tr>\n",
       "      <th>501</th>\n",
       "      <td>0.06263</td>\n",
       "      <td>0.0</td>\n",
       "      <td>11.93</td>\n",
       "      <td>0.0</td>\n",
       "      <td>0.573</td>\n",
       "      <td>6.593</td>\n",
       "      <td>69.1</td>\n",
       "      <td>2.4786</td>\n",
       "      <td>1.0</td>\n",
       "      <td>273.0</td>\n",
       "      <td>21.0</td>\n",
       "      <td>391.99</td>\n",
       "      <td>9.67</td>\n",
       "      <td>22.4</td>\n",
       "    </tr>\n",
       "    <tr>\n",
       "      <th>502</th>\n",
       "      <td>0.04527</td>\n",
       "      <td>0.0</td>\n",
       "      <td>11.93</td>\n",
       "      <td>0.0</td>\n",
       "      <td>0.573</td>\n",
       "      <td>6.120</td>\n",
       "      <td>76.7</td>\n",
       "      <td>2.2875</td>\n",
       "      <td>1.0</td>\n",
       "      <td>273.0</td>\n",
       "      <td>21.0</td>\n",
       "      <td>396.90</td>\n",
       "      <td>9.08</td>\n",
       "      <td>20.6</td>\n",
       "    </tr>\n",
       "    <tr>\n",
       "      <th>503</th>\n",
       "      <td>0.06076</td>\n",
       "      <td>0.0</td>\n",
       "      <td>11.93</td>\n",
       "      <td>0.0</td>\n",
       "      <td>0.573</td>\n",
       "      <td>6.976</td>\n",
       "      <td>91.0</td>\n",
       "      <td>2.1675</td>\n",
       "      <td>1.0</td>\n",
       "      <td>273.0</td>\n",
       "      <td>21.0</td>\n",
       "      <td>396.90</td>\n",
       "      <td>5.64</td>\n",
       "      <td>23.9</td>\n",
       "    </tr>\n",
       "    <tr>\n",
       "      <th>504</th>\n",
       "      <td>0.10959</td>\n",
       "      <td>0.0</td>\n",
       "      <td>11.93</td>\n",
       "      <td>0.0</td>\n",
       "      <td>0.573</td>\n",
       "      <td>6.794</td>\n",
       "      <td>89.3</td>\n",
       "      <td>2.3889</td>\n",
       "      <td>1.0</td>\n",
       "      <td>273.0</td>\n",
       "      <td>21.0</td>\n",
       "      <td>393.45</td>\n",
       "      <td>6.48</td>\n",
       "      <td>22.0</td>\n",
       "    </tr>\n",
       "    <tr>\n",
       "      <th>505</th>\n",
       "      <td>0.04741</td>\n",
       "      <td>0.0</td>\n",
       "      <td>11.93</td>\n",
       "      <td>0.0</td>\n",
       "      <td>0.573</td>\n",
       "      <td>6.030</td>\n",
       "      <td>80.8</td>\n",
       "      <td>2.5050</td>\n",
       "      <td>1.0</td>\n",
       "      <td>273.0</td>\n",
       "      <td>21.0</td>\n",
       "      <td>396.90</td>\n",
       "      <td>7.88</td>\n",
       "      <td>11.9</td>\n",
       "    </tr>\n",
       "  </tbody>\n",
       "</table>\n",
       "</div>"
      ],
      "text/plain": [
       "        CRIM   ZN  INDUS  CHAS    NOX     RM   AGE     DIS  RAD    TAX  \\\n",
       "501  0.06263  0.0  11.93   0.0  0.573  6.593  69.1  2.4786  1.0  273.0   \n",
       "502  0.04527  0.0  11.93   0.0  0.573  6.120  76.7  2.2875  1.0  273.0   \n",
       "503  0.06076  0.0  11.93   0.0  0.573  6.976  91.0  2.1675  1.0  273.0   \n",
       "504  0.10959  0.0  11.93   0.0  0.573  6.794  89.3  2.3889  1.0  273.0   \n",
       "505  0.04741  0.0  11.93   0.0  0.573  6.030  80.8  2.5050  1.0  273.0   \n",
       "\n",
       "     PTRATIO       B  LSTAT  MEDV  \n",
       "501     21.0  391.99   9.67  22.4  \n",
       "502     21.0  396.90   9.08  20.6  \n",
       "503     21.0  396.90   5.64  23.9  \n",
       "504     21.0  393.45   6.48  22.0  \n",
       "505     21.0  396.90   7.88  11.9  "
      ]
     },
     "execution_count": 12,
     "metadata": {},
     "output_type": "execute_result"
    }
   ],
   "source": [
    "dfX = pd.DataFrame(boston.data, columns=boston.feature_names)\n",
    "dfy = pd.DataFrame(boston.target, columns=[\"MEDV\"])\n",
    "df = pd.concat([dfX, dfy], axis=1)\n",
    "df.tail()"
   ]
  },
  {
   "cell_type": "code",
   "execution_count": 13,
   "metadata": {},
   "outputs": [
    {
     "data": {
      "text/html": [
       "<div>\n",
       "<style scoped>\n",
       "    .dataframe tbody tr th:only-of-type {\n",
       "        vertical-align: middle;\n",
       "    }\n",
       "\n",
       "    .dataframe tbody tr th {\n",
       "        vertical-align: top;\n",
       "    }\n",
       "\n",
       "    .dataframe thead th {\n",
       "        text-align: right;\n",
       "    }\n",
       "</style>\n",
       "<table border=\"1\" class=\"dataframe\">\n",
       "  <thead>\n",
       "    <tr style=\"text-align: right;\">\n",
       "      <th></th>\n",
       "      <th>CRIM</th>\n",
       "      <th>ZN</th>\n",
       "      <th>INDUS</th>\n",
       "      <th>CHAS</th>\n",
       "      <th>NOX</th>\n",
       "      <th>RM</th>\n",
       "      <th>AGE</th>\n",
       "      <th>DIS</th>\n",
       "      <th>RAD</th>\n",
       "      <th>TAX</th>\n",
       "      <th>PTRATIO</th>\n",
       "      <th>B</th>\n",
       "      <th>LSTAT</th>\n",
       "      <th>MEDV</th>\n",
       "    </tr>\n",
       "  </thead>\n",
       "  <tbody>\n",
       "    <tr>\n",
       "      <th>count</th>\n",
       "      <td>506.000000</td>\n",
       "      <td>506.000000</td>\n",
       "      <td>506.000000</td>\n",
       "      <td>506.000000</td>\n",
       "      <td>506.000000</td>\n",
       "      <td>506.000000</td>\n",
       "      <td>506.000000</td>\n",
       "      <td>506.000000</td>\n",
       "      <td>506.000000</td>\n",
       "      <td>506.000000</td>\n",
       "      <td>506.000000</td>\n",
       "      <td>506.000000</td>\n",
       "      <td>506.000000</td>\n",
       "      <td>506.000000</td>\n",
       "    </tr>\n",
       "    <tr>\n",
       "      <th>mean</th>\n",
       "      <td>3.593761</td>\n",
       "      <td>11.363636</td>\n",
       "      <td>11.136779</td>\n",
       "      <td>0.069170</td>\n",
       "      <td>0.554695</td>\n",
       "      <td>6.284634</td>\n",
       "      <td>68.574901</td>\n",
       "      <td>3.795043</td>\n",
       "      <td>9.549407</td>\n",
       "      <td>408.237154</td>\n",
       "      <td>18.455534</td>\n",
       "      <td>356.674032</td>\n",
       "      <td>12.653063</td>\n",
       "      <td>22.532806</td>\n",
       "    </tr>\n",
       "    <tr>\n",
       "      <th>std</th>\n",
       "      <td>8.596783</td>\n",
       "      <td>23.322453</td>\n",
       "      <td>6.860353</td>\n",
       "      <td>0.253994</td>\n",
       "      <td>0.115878</td>\n",
       "      <td>0.702617</td>\n",
       "      <td>28.148861</td>\n",
       "      <td>2.105710</td>\n",
       "      <td>8.707259</td>\n",
       "      <td>168.537116</td>\n",
       "      <td>2.164946</td>\n",
       "      <td>91.294864</td>\n",
       "      <td>7.141062</td>\n",
       "      <td>9.197104</td>\n",
       "    </tr>\n",
       "    <tr>\n",
       "      <th>min</th>\n",
       "      <td>0.006320</td>\n",
       "      <td>0.000000</td>\n",
       "      <td>0.460000</td>\n",
       "      <td>0.000000</td>\n",
       "      <td>0.385000</td>\n",
       "      <td>3.561000</td>\n",
       "      <td>2.900000</td>\n",
       "      <td>1.129600</td>\n",
       "      <td>1.000000</td>\n",
       "      <td>187.000000</td>\n",
       "      <td>12.600000</td>\n",
       "      <td>0.320000</td>\n",
       "      <td>1.730000</td>\n",
       "      <td>5.000000</td>\n",
       "    </tr>\n",
       "    <tr>\n",
       "      <th>25%</th>\n",
       "      <td>0.082045</td>\n",
       "      <td>0.000000</td>\n",
       "      <td>5.190000</td>\n",
       "      <td>0.000000</td>\n",
       "      <td>0.449000</td>\n",
       "      <td>5.885500</td>\n",
       "      <td>45.025000</td>\n",
       "      <td>2.100175</td>\n",
       "      <td>4.000000</td>\n",
       "      <td>279.000000</td>\n",
       "      <td>17.400000</td>\n",
       "      <td>375.377500</td>\n",
       "      <td>6.950000</td>\n",
       "      <td>17.025000</td>\n",
       "    </tr>\n",
       "    <tr>\n",
       "      <th>50%</th>\n",
       "      <td>0.256510</td>\n",
       "      <td>0.000000</td>\n",
       "      <td>9.690000</td>\n",
       "      <td>0.000000</td>\n",
       "      <td>0.538000</td>\n",
       "      <td>6.208500</td>\n",
       "      <td>77.500000</td>\n",
       "      <td>3.207450</td>\n",
       "      <td>5.000000</td>\n",
       "      <td>330.000000</td>\n",
       "      <td>19.050000</td>\n",
       "      <td>391.440000</td>\n",
       "      <td>11.360000</td>\n",
       "      <td>21.200000</td>\n",
       "    </tr>\n",
       "    <tr>\n",
       "      <th>75%</th>\n",
       "      <td>3.647423</td>\n",
       "      <td>12.500000</td>\n",
       "      <td>18.100000</td>\n",
       "      <td>0.000000</td>\n",
       "      <td>0.624000</td>\n",
       "      <td>6.623500</td>\n",
       "      <td>94.075000</td>\n",
       "      <td>5.188425</td>\n",
       "      <td>24.000000</td>\n",
       "      <td>666.000000</td>\n",
       "      <td>20.200000</td>\n",
       "      <td>396.225000</td>\n",
       "      <td>16.955000</td>\n",
       "      <td>25.000000</td>\n",
       "    </tr>\n",
       "    <tr>\n",
       "      <th>max</th>\n",
       "      <td>88.976200</td>\n",
       "      <td>100.000000</td>\n",
       "      <td>27.740000</td>\n",
       "      <td>1.000000</td>\n",
       "      <td>0.871000</td>\n",
       "      <td>8.780000</td>\n",
       "      <td>100.000000</td>\n",
       "      <td>12.126500</td>\n",
       "      <td>24.000000</td>\n",
       "      <td>711.000000</td>\n",
       "      <td>22.000000</td>\n",
       "      <td>396.900000</td>\n",
       "      <td>37.970000</td>\n",
       "      <td>50.000000</td>\n",
       "    </tr>\n",
       "  </tbody>\n",
       "</table>\n",
       "</div>"
      ],
      "text/plain": [
       "             CRIM          ZN       INDUS        CHAS         NOX          RM  \\\n",
       "count  506.000000  506.000000  506.000000  506.000000  506.000000  506.000000   \n",
       "mean     3.593761   11.363636   11.136779    0.069170    0.554695    6.284634   \n",
       "std      8.596783   23.322453    6.860353    0.253994    0.115878    0.702617   \n",
       "min      0.006320    0.000000    0.460000    0.000000    0.385000    3.561000   \n",
       "25%      0.082045    0.000000    5.190000    0.000000    0.449000    5.885500   \n",
       "50%      0.256510    0.000000    9.690000    0.000000    0.538000    6.208500   \n",
       "75%      3.647423   12.500000   18.100000    0.000000    0.624000    6.623500   \n",
       "max     88.976200  100.000000   27.740000    1.000000    0.871000    8.780000   \n",
       "\n",
       "              AGE         DIS         RAD         TAX     PTRATIO           B  \\\n",
       "count  506.000000  506.000000  506.000000  506.000000  506.000000  506.000000   \n",
       "mean    68.574901    3.795043    9.549407  408.237154   18.455534  356.674032   \n",
       "std     28.148861    2.105710    8.707259  168.537116    2.164946   91.294864   \n",
       "min      2.900000    1.129600    1.000000  187.000000   12.600000    0.320000   \n",
       "25%     45.025000    2.100175    4.000000  279.000000   17.400000  375.377500   \n",
       "50%     77.500000    3.207450    5.000000  330.000000   19.050000  391.440000   \n",
       "75%     94.075000    5.188425   24.000000  666.000000   20.200000  396.225000   \n",
       "max    100.000000   12.126500   24.000000  711.000000   22.000000  396.900000   \n",
       "\n",
       "            LSTAT        MEDV  \n",
       "count  506.000000  506.000000  \n",
       "mean    12.653063   22.532806  \n",
       "std      7.141062    9.197104  \n",
       "min      1.730000    5.000000  \n",
       "25%      6.950000   17.025000  \n",
       "50%     11.360000   21.200000  \n",
       "75%     16.955000   25.000000  \n",
       "max     37.970000   50.000000  "
      ]
     },
     "execution_count": 13,
     "metadata": {},
     "output_type": "execute_result"
    }
   ],
   "source": [
    "df.describe()"
   ]
  },
  {
   "cell_type": "code",
   "execution_count": 17,
   "metadata": {},
   "outputs": [],
   "source": [
    "import seaborn as sns\n",
    "sns.set()\n",
    "sns.set_style(\"whitegrid\")\n",
    "sns.set_color_codes()\n",
    "import matplotlib.pylab as plt"
   ]
  },
  {
   "cell_type": "code",
   "execution_count": 18,
   "metadata": {
    "scrolled": true
   },
   "outputs": [
    {
     "data": {
      "image/png": "[encoded data removed]",
      "text/plain": [
       "<Figure size 720x720 with 20 Axes>"
      ]
     },
     "metadata": {},
     "output_type": "display_data"
    }
   ],
   "source": [
    "cols = [\"LSTAT\",\"NOX\",\"RM\",\"MEDV\"]\n",
    "sns.pairplot(df[cols])\n",
    "plt.show()"
   ]
  },
  {
   "cell_type": "markdown",
   "metadata": {},
   "source": [
    "- - -"
   ]
  },
  {
   "cell_type": "markdown",
   "metadata": {},
   "source": [
    "### 당뇨병 데이터"
   ]
  },
  {
   "cell_type": "code",
   "execution_count": null,
   "metadata": {},
   "outputs": [],
   "source": [
    "from sklearn.datasets import load_diabetes\n",
    "diabetes = load_diabetes()\n",
    "df = pd.concat([pd.DataFrame(diabetes.data, columns = [\"x%d\"%(i+1) for i in range(diabetes.data.shape[1]]),\n",
    "                                                    ])"
   ]
  },
  {
   "cell_type": "code",
   "execution_count": null,
   "metadata": {},
   "outputs": [],
   "source": [
    "df 개념적으로 dictionary of column series\n",
    "loc[숫자 or 문자,숫자or 문자]\n",
    "iloc[숫자, 숫자] 숫자로 반드시 사용해야\n",
    "ix[]문자나 숫자로 많이 사용해도 된다. ix 앞을 없애기로 해서 위에 두개를 사용하는 것이 좋다."
   ]
  },
  {
   "cell_type": "markdown",
   "metadata": {},
   "source": [
    "#### 가상 데이터 생성 방법\n"
   ]
  },
  {
   "cell_type": "code",
   "execution_count": null,
   "metadata": {},
   "outputs": [],
   "source": [
    "make_regression() x, y데이터를 함께 만들어 준다. feature matrix, target vector 를 함께 만든다.\n",
    "y = b(0나온다고 y가 0 나오진 않으니까) + wx  + \\epsilon(오차로 뭉뚱거린다.) \n",
    "\n",
    "잔차 : e (분석한 결과에서)\n",
    "오차 : \\epsilon disturbance x가 아닌 모든 영향을 뭉뚱그려 놓은 것 계산 할 수 없다. 정규 분포라고 가정한다.\n",
    "    중심 극한 정리에 의해 정규분포라고 가정\n",
    "    \n",
    "y=b1+Xw+ϵ 데이터 여러개의 경우\n",
    "\n",
    "make_regresssion() 실행하면 우측의 값 다 만든다.\n",
    "\n",
    "w 자기마음대로 만들지만\n",
    "\n",
    "n_targets 보통 안쓴다.\n",
    "\n",
    "bias : b값은 사람이 넣어주는 것으로 코드가 되어있음\n",
    "\n",
    "noise : disturbance 의 standard deviation 를 얼마나 크게 넣어줄지를 정한다. 0은 noise 가 0이고 직선이 나온다.\n",
    "    0이면 x말고는 다른 영향 없다는 것 \n",
    "    \n",
    "coef : True로 해서 w값 무엇인지 알아낸다.\n",
    "    \n",
    "seed : random으로 만들어내서 seed값을 필요로 한다.\n",
    "\n",
    "    \n",
    "bias : 100 넣으면 x가 0일때 \n",
    "    \n"
   ]
  },
  {
   "cell_type": "code",
   "execution_count": null,
   "metadata": {},
   "outputs": [],
   "source": [
    "n feature, coef 안넣는다."
   ]
  },
  {
   "cell_type": "code",
   "execution_count": 19,
   "metadata": {},
   "outputs": [
    {
     "data": {
      "text/plain": [
       "array([[ 0.97873798],\n",
       "       [ 2.2408932 ],\n",
       "       [ 1.86755799],\n",
       "       [ 0.95008842],\n",
       "       [ 1.76405235],\n",
       "       [ 0.4105985 ],\n",
       "       [-0.97727788],\n",
       "       [ 0.40015721],\n",
       "       [-0.10321885],\n",
       "       [-0.15135721]])"
      ]
     },
     "execution_count": 19,
     "metadata": {},
     "output_type": "execute_result"
    }
   ],
   "source": [
    "from sklearn.datasets import make_regression\n",
    "\n",
    "X, y, w = make_regression(n_samples=10, n_features=1, bias =0, noise=0, coef=True, random_state=0)\n",
    "X"
   ]
  },
  {
   "cell_type": "code",
   "execution_count": 20,
   "metadata": {},
   "outputs": [
    {
     "data": {
      "text/plain": [
       "array([ 77.48913677, 177.41712535, 147.85924209,  75.22087885,\n",
       "       139.66444108,  32.50811146, -77.37353667,  31.6814481 ,\n",
       "        -8.17209494, -11.98332915])"
      ]
     },
     "execution_count": 20,
     "metadata": {},
     "output_type": "execute_result"
    }
   ],
   "source": [
    "y"
   ]
  },
  {
   "cell_type": "code",
   "execution_count": 21,
   "metadata": {},
   "outputs": [
    {
     "data": {
      "text/plain": [
       "array(79.17250381)"
      ]
     },
     "execution_count": 21,
     "metadata": {},
     "output_type": "execute_result"
    }
   ],
   "source": [
    "w"
   ]
  },
  {
   "cell_type": "code",
   "execution_count": 22,
   "metadata": {},
   "outputs": [
    {
     "data": {
      "image/png": "[encoded data removed]",
      "text/plain": [
       "<Figure size 432x288 with 1 Axes>"
      ]
     },
     "metadata": {},
     "output_type": "display_data"
    }
   ],
   "source": [
    "plt.scatter(X, y, s=100)\n",
    "plt.xlabel(\"x\")\n",
    "plt.ylabel(\"y\")\n",
    "plt.show()"
   ]
  },
  {
   "cell_type": "code",
   "execution_count": 23,
   "metadata": {},
   "outputs": [
    {
     "data": {
      "image/png": "[encoded data removed]",
      "text/plain": [
       "<Figure size 432x288 with 1 Axes>"
      ]
     },
     "metadata": {},
     "output_type": "display_data"
    }
   ],
   "source": [
    "X, y, w = make_regression(n_samples=50, n_features=1, bias=100, noise=10,\n",
    "                          coef=True, random_state=0)\n",
    "plt.scatter(X, y, s=100)\n",
    "plt.xlabel(\"x\")\n",
    "plt.ylabel(\"y\")\n",
    "plt.show()"
   ]
  },
  {
   "cell_type": "code",
   "execution_count": 27,
   "metadata": {},
   "outputs": [],
   "source": [
    "import numpy as np"
   ]
  },
  {
   "cell_type": "code",
   "execution_count": 53,
   "metadata": {},
   "outputs": [],
   "source": [
    "def make_regression2(n_samples=100, bias=0.0, noise=0.0, random_state=None):\n",
    "    random_state = np.random.seed(random_state)\n",
    "    X = np.random.randn(n_samples)\n",
    "    w = np.random.randn(1)* randint(10)\n",
    "    e = np.random.randn(n_samples) * noise\n",
    "    y = bias + X * w + e"
   ]
  },
  {
   "cell_type": "code",
   "execution_count": 54,
   "metadata": {},
   "outputs": [
    {
     "data": {
      "image/png": "[encoded data removed]",
      "text/plain": [
       "<Figure size 432x288 with 1 Axes>"
      ]
     },
     "metadata": {},
     "output_type": "display_data"
    }
   ],
   "source": [
    "X, y, w = make_regression(n_samples=50, n_features=1, bias=100, noise=10,\n",
    "                          coef=True, random_state=0)\n",
    "plt.scatter(X, y, s=100)\n",
    "plt.xlabel(\"x\")\n",
    "plt.ylabel(\"y\")\n",
    "plt.show()"
   ]
  },
  {
   "cell_type": "markdown",
   "metadata": {},
   "source": [
    "#### 독립변수가 여러개인 경우"
   ]
  },
  {
   "cell_type": "code",
   "execution_count": null,
   "metadata": {},
   "outputs": [],
   "source": [
    "x 값이 feature이고, 명암이 sample \n",
    "x 값이 바뀌면 y의 분포가 바뀌는가를 봐야한다.\n",
    "x1 값이 커지면 희미해진다. 분포가 바뀌었다.\n",
    "\n",
    "연관이 없는 애들도 섞이도록 n_informative = 1 독립변수 중에서 실제 상관관계가 있는 갯수\n",
    "\n",
    "x 간의 상관관계가 있는지 살펴보는 것  eff rank, tail st \n",
    "\n",
    "feature  = 4 이고 eff rank = 2 이면 fea중 2개만 independant, 나머지는 변형해서 만든 것\n",
    "\n",
    "원래는 섞여서 돌리면 에러가 난다.\n",
    "\n",
    "회귀분석은 w를 찾아내는 작업인데 같은 갓\n",
    "\n",
    "y = w1x1 + w2x2 + w2`x2`\n",
    "이렇게 모르고 들어가게 되면 \n",
    "w2와 w2`를 어떻게 분배해야 할지 모른다 다 가능\n",
    "원래 w2 = 10이면 1, 9 가능, 5,5 가능\n",
    "\n",
    "종속인 애가 단 하나라도 섞여서 들어가면 무한대의 해가 나와서 구할 수가 없다.\n",
    "\n",
    "X1 = X2 \n",
    "X1비슷X2 한 경우? 에러는 안나고 답은 나오는데 w가중치 값이 정확한 답이라고는 말하지 못한다\n",
    "오차가 있고, overfitting 되어 있다. correlation 너무 강하면 버려야한다. 버리기 아까우면 pca 변형시켜서 쓰레기같은 데이터만 \n",
    "\n",
    "독립인 애들만 남을때까지 버려야한다. 다중 공선성 tail_strength\n",
    "\n",
    "x 들 간의 correlation의 세기를 조절 가능하다.\n",
    "\n",
    "\n",
    "\n",
    "\n",
    "\n",
    "\n",
    "\n",
    "\n"
   ]
  },
  {
   "cell_type": "markdown",
   "metadata": {},
   "source": [
    "### 선형 회귀분석의 기초\n"
   ]
  },
  {
   "cell_type": "markdown",
   "metadata": {},
   "source": [
    "x 값을 집어넣었을 때 y를 예측하는 것\n",
    "함수를 수식으로 찾아낼 것 - 여러가지 함수중에 하나 선택할 것인데\n",
    "- 가장 간단한 선형 조합으로 이루어지는 함수를 선택(선형 모형)\n",
    "\n",
    "선형이 아닌 다른 함수를 선택하면 (비선형 회귀분석) : 잘 사용하지 않는다. 구하기도 힘들고 분석하기도 힘들다.\n",
    "\n",
    "    \n",
    "#### 바이어스 오그멘테이션 \n",
    "\n",
    "w0라는 애를 넣어서 x 0넣어도 y가 0안되게 만든다.    \n",
    "\n",
    "feature에 가짜 feature를 하나 집어넣는다. 1 가짜로 집어 넣는다. 붙이는 작업이라 augmentation 이라고 한다.\n",
    "\n",
    "나중에 w0 계산해주기 위해서!\n",
    "\n",
    "바이어스 오그멘테이션 항상 반드시 해줘야한다.!!!!!!!!!!!!!!!!!!!!!!!!!!!!!\n",
    "\n",
    "x가 0이면 y는 반드시 0이라는 자연법칙이 있다는 것을 알면 오그멘테이션 하지 않아도 된다.\n",
    "\n",
    "feature벡터의 항상 앞줄은 1이다.!!!!!!!! 직접 augmentation 해줘야한다.\n",
    "\n",
    "`add_constant`\n",
    "\n"
   ]
  },
  {
   "cell_type": "code",
   "execution_count": 56,
   "metadata": {},
   "outputs": [],
   "source": [
    "from sklearn.datasets import make_regression\n",
    "\n",
    "X0, y, coef = make_regression(n_samples=100, n_features=2,\n",
    "                              bias=100, noise=10, coef=True, random_state=1)\n",
    "\n",
    "# feature 2개, 샘플 갯수 100개인 X 에 1을 앞에 붙여줘야한다. w0를 곱해주기 위해서"
   ]
  },
  {
   "cell_type": "code",
   "execution_count": 57,
   "metadata": {},
   "outputs": [
    {
     "data": {
      "text/plain": [
       "array([[ 0.0465673 ,  0.80186103],\n",
       "       [-2.02220122,  0.31563495],\n",
       "       [-0.38405435, -0.3224172 ],\n",
       "       [-1.31228341,  0.35054598],\n",
       "       [-0.88762896, -0.19183555]])"
      ]
     },
     "execution_count": 57,
     "metadata": {},
     "output_type": "execute_result"
    }
   ],
   "source": [
    "X0[:5]"
   ]
  },
  {
   "cell_type": "code",
   "execution_count": 58,
   "metadata": {
    "scrolled": false
   },
   "outputs": [
    {
     "data": {
      "text/plain": [
       "array([[ 1.        ,  0.0465673 ,  0.80186103],\n",
       "       [ 1.        , -2.02220122,  0.31563495],\n",
       "       [ 1.        , -0.38405435, -0.3224172 ],\n",
       "       [ 1.        , -1.31228341,  0.35054598],\n",
       "       [ 1.        , -0.88762896, -0.19183555]])"
      ]
     },
     "execution_count": 58,
     "metadata": {},
     "output_type": "execute_result"
    }
   ],
   "source": [
    "import statsmodels.api as sm\n",
    "\n",
    "X = sm.add_constant(X0)\n",
    "X[:5]"
   ]
  },
  {
   "cell_type": "markdown",
   "metadata": {},
   "source": [
    "`sm.add_constant(feature matrix)` 이용해서 앞에 1을 붙여줄 수 있다. "
   ]
  },
  {
   "cell_type": "markdown",
   "metadata": {},
   "source": [
    "#### OLS (Ordinary Least Squares)\n",
    "\n",
    "- 가장 지본적은 결정론적 선형 회귀방법으로 잔차 제곱합을 최소화가는 가중치 벡터를 행렬 미분으로 구하는 방법이다.\n",
    "\n",
    "- RSS를 미분해서 0인 벡터를 만드는 w를 찾는 것!!! \n",
    "\n",
    "f(x)를 만드는 것인데 함수 모양은 선형으로 결정했고\n",
    "계수 w를 구하면 된다.\n",
    "\n",
    "w를 가정하면 이런 식이 나온다.\n",
    "y = Xw\n",
    "e = y - y^ = y - Xw\n",
    "\n",
    "잔차 벡터의 크기가 작을수록 좋은 것\n",
    "잔차 벡터의 크기를 작게 하면 w값을 구하는 것\n",
    "\n",
    "norm 벡터의 크기 구하고\n",
    "\n",
    "residual sum of square = ee\n",
    "\n",
    "잔차 제곱합이 가장 작게 만드는 w를 구한다. optimization\n",
    "gradiant vector가 0이 되게 미분\n",
    "w구할 거니까 w로 미분\n",
    "\n",
    "X.T, X = 정방행렬\n",
    "\n",
    "식의 2가지 의문점\n",
    "\n",
    "1. gradient 가장 위의값 될 수도 있다.\n",
    "2. 역행렬 존재?? \n",
    "\n",
    "X.T X가 곧 헤시안 = 양수 이면\n",
    "\n",
    "X.T, X 파지티브 데피닛 양수\n",
    "X 메트릭스 안에 종속인 것이 아무것도 없으면 = 모두 독립인 경우에\n",
    "inv 존재하지 않아서 w 구할 수 없었던 것\n",
    "\n",
    "\n",
    "#### 정규방정식 normal equation 아주 중요!!!!!! \n",
    "\n",
    "X.T e = 0 이면\n",
    "\n",
    "X와 e가 직교한다.***** 중요하다!!!!!\n",
    "\n",
    "\n",
    "- y¯=wTx\n",
    "\n",
    "- 왜 중요? : 회귀 분석 전에 전처리 해서 scaling 하게 되는데 그 값이 변하게 되어도 w 값은 변하지 않는 다는 것을 증명해 줌\n",
    "\n",
    "\n",
    "#### 실제로 plot으로 그려보기\n",
    "\n",
    "- 빨간색 선을 그리는 방법 알아야 한다!!!!"
   ]
  },
  {
   "cell_type": "code",
   "execution_count": 59,
   "metadata": {},
   "outputs": [],
   "source": [
    "from sklearn.datasets import make_regression\n",
    "\n",
    "bias = 100\n",
    "X0, y, coef = make_regression(n_samples=100, n_features=1, bias=bias, noise=10, coef=True, random_state=1)\n",
    "X = sm.add_constant(X0)\n",
    "y = y.reshape(len(y), 1)"
   ]
  },
  {
   "cell_type": "code",
   "execution_count": 65,
   "metadata": {},
   "outputs": [],
   "source": [
    "from sklearn.linear_model import LinearRegression"
   ]
  },
  {
   "cell_type": "code",
   "execution_count": 66,
   "metadata": {
    "scrolled": true
   },
   "outputs": [
    {
     "name": "stderr",
     "output_type": "stream",
     "text": [
      "/usr/local/lib/python3.6/site-packages/sklearn/linear_model/base.py:509: RuntimeWarning: internal gelsd driver lwork query error, required iwork dimension not returned. This is likely the result of LAPACK bug 0038, fixed in LAPACK 3.2.2 (released July 21, 2010). Falling back to 'gelss' driver.\n",
      "  linalg.lstsq(X, y)\n"
     ]
    }
   ],
   "source": [
    "model = LinearRegression().fit(X0, y)"
   ]
  },
  {
   "cell_type": "code",
   "execution_count": 67,
   "metadata": {
    "scrolled": true
   },
   "outputs": [
    {
     "data": {
      "text/plain": [
       "array([[81.59750943]])"
      ]
     },
     "execution_count": 67,
     "metadata": {},
     "output_type": "execute_result"
    }
   ],
   "source": [
    "model.coef_"
   ]
  },
  {
   "cell_type": "code",
   "execution_count": 68,
   "metadata": {
    "scrolled": true
   },
   "outputs": [
    {
     "data": {
      "text/plain": [
       "array([102.02701439])"
      ]
     },
     "execution_count": 68,
     "metadata": {},
     "output_type": "execute_result"
    }
   ],
   "source": [
    "model.intercept_"
   ]
  },
  {
   "cell_type": "code",
   "execution_count": null,
   "metadata": {},
   "outputs": [],
   "source": [
    "predictions = model.predict(model)"
   ]
  },
  {
   "cell_type": "code",
   "execution_count": 60,
   "metadata": {
    "scrolled": true
   },
   "outputs": [
    {
     "data": {
      "text/plain": [
       "array(80.71051956)"
      ]
     },
     "execution_count": 60,
     "metadata": {},
     "output_type": "execute_result"
    }
   ],
   "source": [
    "coef"
   ]
  },
  {
   "cell_type": "code",
   "execution_count": 61,
   "metadata": {},
   "outputs": [
    {
     "data": {
      "text/plain": [
       "array([[102.02701439],\n",
       "       [ 81.59750943]])"
      ]
     },
     "execution_count": 61,
     "metadata": {},
     "output_type": "execute_result"
    }
   ],
   "source": [
    "# OLS 해를 직접 이용하는 방법\n",
    "w = np.dot(np.dot(np.linalg.inv(np.dot(X.T, X)), X.T),y)\n",
    "w"
   ]
  },
  {
   "cell_type": "code",
   "execution_count": 62,
   "metadata": {},
   "outputs": [
    {
     "name": "stderr",
     "output_type": "stream",
     "text": [
      "/usr/local/lib/python3.6/site-packages/ipykernel_launcher.py:2: FutureWarning: `rcond` parameter will change to the default of machine precision times ``max(M, N)`` where M and N are the input matrix dimensions.\n",
      "To use the future default and silence this warning we advise to pass `rcond=None`, to keep using the old, explicitly pass `rcond=-1`.\n",
      "  \n"
     ]
    },
    {
     "data": {
      "text/plain": [
       "array([[102.02701439],\n",
       "       [ 81.59750943]])"
      ]
     },
     "execution_count": 62,
     "metadata": {},
     "output_type": "execute_result"
    }
   ],
   "source": [
    "# lstsq 명령 이용하는 방법\n",
    "w = np.linalg.lstsq(X, y)[0]\n",
    "w"
   ]
  },
  {
   "cell_type": "code",
   "execution_count": 64,
   "metadata": {
    "scrolled": true
   },
   "outputs": [
    {
     "data": {
      "image/png": "[encoded data removed]",
      "text/plain": [
       "<Figure size 432x288 with 1 Axes>"
      ]
     },
     "metadata": {},
     "output_type": "display_data"
    }
   ],
   "source": [
    "x_new = np.linspace(np.min(X0), np.max(X0), 100)\n",
    "X_new = sm.add_constant(x_new)  # 오그멘테이션\n",
    "y_new = np.dot(X_new, w)\n",
    "\n",
    "plt.scatter(X0, y, label=\"data\")\n",
    "plt.plot(x_new, y_new, 'r-', label=\"regression\")\n",
    "plt.xlabel(\"x\")\n",
    "plt.ylabel(\"y\")\n",
    "plt.title(\"Example of Linear Regression Analysis\")\n",
    "plt.legend()\n",
    "plt.show()"
   ]
  },
  {
   "cell_type": "markdown",
   "metadata": {},
   "source": [
    "### scikit learn 패키지를 사용한 선형 회귀분석"
   ]
  },
  {
   "cell_type": "code",
   "execution_count": null,
   "metadata": {},
   "outputs": [],
   "source": [
    "# 철학이 달라서 명령어가 좀 다르다.\n",
    "from sklearn.linear_model import LinearRegression\n",
    "\n",
    "coef_ : 가중치 벡터, \n",
    "    \n",
    "y, y^을 이용해서 scatter plot 이용\n",
    "완벽하게 예측하면 regression line위에 놓인다.\n",
    "\n",
    "# 객체 자체가 나온다. 속성이 추가된 상태로 출력됨 model.fit(X,y)\n",
    "\n",
    "# 원래 "
   ]
  },
  {
   "cell_type": "code",
   "execution_count": null,
   "metadata": {},
   "outputs": [],
   "source": [
    "from sklearn.datasets import load_boston\n",
    "from sklearn.linear_model import LinearRegression\n",
    "\n",
    "boston = load_boston()\n",
    "model_boston = LinearRegression().fit(boston.data, boston.target)\n"
   ]
  },
  {
   "cell_type": "markdown",
   "metadata": {},
   "source": [
    "#### StatsModels를 사용한 선형 회귀분석\n",
    "\n",
    "- `OLS`클래스 사용\n",
    "- 객체 만들 때 데이터를 가지고 모델을 만든다.\n",
    "- 데이터 만드는 순서 scikit과 다르다. y, X\n",
    "- augmentation 직접 해줘야한다.\n"
   ]
  },
  {
   "cell_type": "markdown",
   "metadata": {},
   "source": [
    "result = model.fit()\n",
    "객체 자기자신을 출력하지 않고 다른 객체를 출력한다.\n",
    "분석을 위한 리포트로 보여주는 매서드도 가지고 있는 조금 더 큰 범위이다.\n",
    "\n",
    "- 주의 !!!!x_new 넣을 때 augmentation 해서 같은 포맷이 되게 집어넣어야 한다.\n",
    "\n",
    "- dataFrame 넣어도 된다. df 넣는 것이 리포트 만들때 columns 이름 사용해서 더 좋다. df사용!!\n",
    "\n",
    "##### report 해석\n",
    "\n",
    "coef가 실제 자연법칙과 얼마나 차이나는지를 std로 알려준다. +- 사이에 있을 것이다.\n",
    "\n",
    "test statistics \n",
    "p-value\n",
    "\n",
    "귀무가설 coef가 0이다. 해당 컬럼이 집값과 관련이 없다.라는 귀무가설 pvalue 작아서 기각되면\n",
    "\n",
    "- 인사이트 하나하나 얻기 위해서는 StatsModels 써야한다!!!\n",
    "\n",
    "- prediction할때도 model 만들 때와 같이 df로 넣어줘야한다.\n",
    "\n",
    "- report에 있는 모든 숫자 값들을 개별적으로 access가능하다! doc 참고\n",
    "\n",
    "- 다른 컬럼 값들이 더 크게 영향을 미치면 하나의 컬럼과 결과가 실제와 다르게 반영이 될 수 있어서 다른 컬럼들의 영향을 제외한 다음에 둘만의 상관관계를 판단해야한다! 그대로 믿으면 안됨!!!! \n",
    "\n",
    "MEDV : 실제\n",
    "fitted : 예측\n",
    "선 : 오차범위\n",
    "\n",
    "오차범위를 벗어난 아이들은 이 모형과 맞지 않고 outlier이라고 한다.\n",
    "\n",
    "1,2 residual 분석 : x 가 달라져도 분포가 달라지지 않는 것이 좋다.\n",
    "\n",
    "잔차와 x값이 상관관계가 있으면 안된다.\n",
    "상관관계 있는 것 만큼 뽑아내는 것 인데 상관관계 있으면 아직 최적의 w뽑아내지 않은 것이고 > 선형 모형을 쓰면 안되나?라는 생각 할 수 있다.\n",
    "\n",
    "- 다항 회귀"
   ]
  }
 ],
 "metadata": {
  "kernelspec": {
   "display_name": "Python 3",
   "language": "python",
   "name": "python3"
  },
  "language_info": {
   "codemirror_mode": {
    "name": "ipython",
    "version": 3
   },
   "file_extension": ".py",
   "mimetype": "text/x-python",
   "name": "python",
   "nbconvert_exporter": "python",
   "pygments_lexer": "ipython3",
   "version": "3.6.5"
  }
 },
 "nbformat": 4,
 "nbformat_minor": 2
}
