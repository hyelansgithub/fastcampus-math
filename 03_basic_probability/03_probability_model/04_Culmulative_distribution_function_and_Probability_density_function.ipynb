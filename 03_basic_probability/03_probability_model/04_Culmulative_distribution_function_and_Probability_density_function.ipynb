{
 "cells": [
  {
   "cell_type": "markdown",
   "metadata": {},
   "source": [
    "# 확률론 기초\n",
    "## 03장. 확률모형 \n",
    "## 4. 누적 분포 함수와 확률 밀도 함수"
   ]
  },
  {
   "cell_type": "markdown",
   "metadata": {},
   "source": [
    "- 표본 : 하나의 경우\n",
    "- 표본 집단 : 가능한 경우의 전체\n",
    "- 사건 : 표본 집단의 부분집합\n",
    "- 확률 : 사건에 대해 숫자를 할당하는 함수"
   ]
  }
 ],
 "metadata": {
  "kernelspec": {
   "display_name": "Python 3",
   "language": "python",
   "name": "python3"
  },
  "language_info": {
   "codemirror_mode": {
    "name": "ipython",
    "version": 3
   },
   "file_extension": ".py",
   "mimetype": "text/x-python",
   "name": "python",
   "nbconvert_exporter": "python",
   "pygments_lexer": "ipython3",
   "version": "3.6.5"
  }
 },
 "nbformat": 4,
 "nbformat_minor": 2
}
