{
 "cells": [
  {
   "cell_type": "markdown",
   "metadata": {},
   "source": [
    "# 확률론 기초\n",
    "## 03장. 확률모형 \n",
    "## 1. 확률적 데이터"
   ]
  },
  {
   "cell_type": "markdown",
   "metadata": {},
   "source": [
    "- - -\n",
    "### 01. 샘플 평균(sample mean), 샘플 중앙값(sample median), 샘플 최빈값(sample mode) 구하기\n",
    "\n",
    "- numpy의 `np.mean()`, `np.median()`, `np.histogram과 np.argmax`를 사용해 구할 수 있다.\n",
    "\n",
    "- - -\n",
    "\n",
    "- `histogram(데이터, 구간)` 넣으면 `각 구간별 데이터 갯수와 나눠진 구간` 나온다. (Compute the histogram of a set of data)\n",
    "\n",
    "- `np.argmax`는 `가장 큰 값을 가지는 index 넘버`를 리턴한다. (Returns the indices of the maximum values along an axis)\n",
    "\n",
    "- np.argmax의 결과인 인덱스 넘버를 가지고 최빈값을 알아 낼 수 있다.\n"
   ]
  },
  {
   "cell_type": "code",
   "execution_count": 2,
   "metadata": {},
   "outputs": [],
   "source": [
    "import numpy as np"
   ]
  },
  {
   "cell_type": "code",
   "execution_count": 19,
   "metadata": {},
   "outputs": [],
   "source": [
    "# 먼저 샘플 데이터를 생성한다.\n",
    "np.random.seed(0)\n",
    "x = np.random.normal(size=1000)"
   ]
  },
  {
   "cell_type": "code",
   "execution_count": 20,
   "metadata": {},
   "outputs": [
    {
     "data": {
      "text/plain": [
       "-0.045256707490195384"
      ]
     },
     "execution_count": 20,
     "metadata": {},
     "output_type": "execute_result"
    }
   ],
   "source": [
    "# mean : 평균\n",
    "np.mean(x)"
   ]
  },
  {
   "cell_type": "code",
   "execution_count": 21,
   "metadata": {},
   "outputs": [
    {
     "data": {
      "text/plain": [
       "-0.058028034799627745"
      ]
     },
     "execution_count": 21,
     "metadata": {},
     "output_type": "execute_result"
    }
   ],
   "source": [
    "# median : 중앙값\n",
    "np.median(x)"
   ]
  },
  {
   "cell_type": "code",
   "execution_count": 27,
   "metadata": {},
   "outputs": [
    {
     "data": {
      "text/plain": [
       "(array([  0,   0,   0,   0,   0,   0,   6,  54, 247, 426, 213,  52,   2,\n",
       "          0,   0,   0,   0,   0,   0]),\n",
       " array([-10.        ,  -8.94736842,  -7.89473684,  -6.84210526,\n",
       "         -5.78947368,  -4.73684211,  -3.68421053,  -2.63157895,\n",
       "         -1.57894737,  -0.52631579,   0.52631579,   1.57894737,\n",
       "          2.63157895,   3.68421053,   4.73684211,   5.78947368,\n",
       "          6.84210526,   7.89473684,   8.94736842,  10.        ]))"
      ]
     },
     "execution_count": 27,
     "metadata": {},
     "output_type": "execute_result"
    }
   ],
   "source": [
    "# mode : 최빈값\n",
    "# 1) 먼저 histogram을 이용해 데이터를 구간으로 나누어 각 구간에 들어가는 데이터 갯수를 계산한다.\n",
    "ns, bins = np.histogram(x, bins=np.linspace(-10,10,20))\n",
    "ns, bins"
   ]
  },
  {
   "cell_type": "code",
   "execution_count": 29,
   "metadata": {},
   "outputs": [
    {
     "data": {
      "text/plain": [
       "(9, -0.526315789473685, 0.5263157894736832)"
      ]
     },
     "execution_count": 29,
     "metadata": {},
     "output_type": "execute_result"
    }
   ],
   "source": [
    "# 2) argmax를 이용해서 샘플 최빈값을 계산한다.\n",
    "M = np.argmax(ns)\n",
    "M, bins[M], bins[M+1]"
   ]
  },
  {
   "cell_type": "markdown",
   "metadata": {},
   "source": [
    "- `np.histogram` : Compute the histogram of a set of data. \n",
    "    - np.histogram(데이터, 구간) 넣으면 구간별 데이터 갯수와 구간이 출력된다.\n",
    "\n",
    "- `np.argmax` : Returns the indices of the maximum values along an axis.\n",
    "    - 가장 큰 값을 가지는 index 넘버를 리턴한다.\n",
    "    \n",
    "- np.argmax의 결과 인덱스 넘버를 가지고 최빈값을 계산 할 수 있다."
   ]
  },
  {
   "cell_type": "markdown",
   "metadata": {},
   "source": [
    "- - -\n",
    "### 연습문제 1\n",
    "1. NumPy를 사용하여 100개의 숫자를 무작위로 생성한 후 히스토그램을 그리고 샘플 평균을 구한다.\n",
    "2. 1번과 같이 100개의 숫자 생성 및 샘플 평균 계산을 10번 반복하여 10개의 샘플 평균을 구한다.\n",
    "3. 2번에서 구한 10개의 샘플 평균의 히스토그램을 그리고 1번에서 구한 히스토그램과 겹쳐서 그린다."
   ]
  },
  {
   "cell_type": "code",
   "execution_count": 56,
   "metadata": {},
   "outputs": [],
   "source": [
    "import matplotlib.pylab as plt\n",
    "np.random.seed(0)\n",
    "A = np.random.randint(101, size=100)"
   ]
  },
  {
   "cell_type": "code",
   "execution_count": 57,
   "metadata": {},
   "outputs": [
    {
     "data": {
      "image/png": "[encoded data removed]",
      "text/plain": [
       "<Figure size 432x288 with 1 Axes>"
      ]
     },
     "metadata": {},
     "output_type": "display_data"
    }
   ],
   "source": [
    "# 1. 100개의 숫자 무작위 생성 후 히스토그램 그리고 샘플 평균 구하기\n",
    "plt.hist(A)\n",
    "plt.xlim(0,100)\n",
    "plt.show()"
   ]
  },
  {
   "cell_type": "code",
   "execution_count": 58,
   "metadata": {},
   "outputs": [
    {
     "data": {
      "text/plain": [
       "48.75"
      ]
     },
     "execution_count": 58,
     "metadata": {},
     "output_type": "execute_result"
    }
   ],
   "source": [
    "np.mean(A)"
   ]
  },
  {
   "cell_type": "code",
   "execution_count": null,
   "metadata": {},
   "outputs": [],
   "source": [
    "# 2. 1번과 같이 100개의 숫자 생성 및 샘플 평균 계산을 50번 반복하여 50개의 샘플 평균을 구한다."
   ]
  },
  {
   "cell_type": "code",
   "execution_count": 61,
   "metadata": {},
   "outputs": [
    {
     "data": {
      "text/plain": [
       "(48.75, 49.28, 53.72, 49.61, 45.06, 52.35, 50.35, 40.91, 48.84, 48.26)"
      ]
     },
     "execution_count": 61,
     "metadata": {},
     "output_type": "execute_result"
    }
   ],
   "source": [
    "B = np.random.randint(0,101,100)\n",
    "C = np.random.randint(0,101,100)\n",
    "D = np.random.randint(0,101,100)\n",
    "E = np.random.randint(0,101,100)\n",
    "F = np.random.randint(0,101,100)\n",
    "G = np.random.randint(0,101,100)\n",
    "H = np.random.randint(0,101,100)\n",
    "I = np.random.randint(0,101,100)\n",
    "J = np.random.randint(0,101,100)\n",
    "np.mean(A), np.mean(B), np.mean(C), np.mean(D), np.mean(E),np.mean(F), np.mean(G),np.mean(H), np.mean(I), np.mean(J)"
   ]
  },
  {
   "cell_type": "code",
   "execution_count": 62,
   "metadata": {},
   "outputs": [],
   "source": [
    "M = (48.75, 49.28, 53.72, 49.61, 45.06, 52.35, 50.35, 40.91, 48.84, 48.26)"
   ]
  },
  {
   "cell_type": "code",
   "execution_count": 64,
   "metadata": {},
   "outputs": [
    {
     "data": {
      "text/plain": [
       "48.713"
      ]
     },
     "execution_count": 64,
     "metadata": {},
     "output_type": "execute_result"
    }
   ],
   "source": [
    "np.mean(M)"
   ]
  },
  {
   "cell_type": "code",
   "execution_count": 65,
   "metadata": {},
   "outputs": [],
   "source": [
    "# 3. 2번에서 구한 10개의 샘플 평균의 히스토그램을 그리고 1번에서 구한 히스토그램과 겹쳐서 그린다."
   ]
  },
  {
   "cell_type": "code",
   "execution_count": 72,
   "metadata": {},
   "outputs": [
    {
     "data": {
      "image/png": "[encoded data removed]",
      "text/plain": [
       "<Figure size 432x288 with 1 Axes>"
      ]
     },
     "metadata": {},
     "output_type": "display_data"
    }
   ],
   "source": [
    "plt.xlim(1,100)\n",
    "plt.hist(A)\n",
    "plt.hist(M)\n",
    "plt.show()"
   ]
  },
  {
   "cell_type": "markdown",
   "metadata": {},
   "source": [
    "- - -"
   ]
  },
  {
   "cell_type": "markdown",
   "metadata": {},
   "source": [
    "### 02. 샘플분산(sample variance), 샘플표준편차(sample standard deviation) 구하기"
   ]
  },
  {
   "cell_type": "code",
   "execution_count": 73,
   "metadata": {},
   "outputs": [],
   "source": [
    "# sp.stats.norm : A normal continuous random variable."
   ]
  },
  {
   "cell_type": "code",
   "execution_count": 89,
   "metadata": {},
   "outputs": [],
   "source": [
    "from scipy import stats\n",
    "sp.random.seed(0)\n",
    "x = sp.stats.norm(0, 2).rvs(1000)  # mean=0, standard deviation=2"
   ]
  },
  {
   "cell_type": "code",
   "execution_count": 90,
   "metadata": {},
   "outputs": [
    {
     "data": {
      "text/plain": [
       "3.896937825248617"
      ]
     },
     "execution_count": 90,
     "metadata": {},
     "output_type": "execute_result"
    }
   ],
   "source": [
    "np.var(x)"
   ]
  },
  {
   "cell_type": "code",
   "execution_count": 91,
   "metadata": {
    "scrolled": true
   },
   "outputs": [
    {
     "data": {
      "text/plain": [
       "3.900838663912529"
      ]
     },
     "execution_count": 91,
     "metadata": {},
     "output_type": "execute_result"
    }
   ],
   "source": [
    "np.var(x, ddof=1)  # unbiased variance"
   ]
  },
  {
   "cell_type": "markdown",
   "metadata": {},
   "source": [
    "- - -"
   ]
  }
 ],
 "metadata": {
  "kernelspec": {
   "display_name": "Python 3",
   "language": "python",
   "name": "python3"
  },
  "language_info": {
   "codemirror_mode": {
    "name": "ipython",
    "version": 3
   },
   "file_extension": ".py",
   "mimetype": "text/x-python",
   "name": "python",
   "nbconvert_exporter": "python",
   "pygments_lexer": "ipython3",
   "version": "3.6.5"
  }
 },
 "nbformat": 4,
 "nbformat_minor": 2
}
