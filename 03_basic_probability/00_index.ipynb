{
 "cells": [
  {
   "cell_type": "markdown",
   "metadata": {},
   "source": [
    "# 확률론 기초 (Basic Probability)\n",
    "\n",
    "## 01_확률의 정의와 특성\n",
    "\n",
    "### 1. 집합\n",
    "### 2. 확률의 수학적 정의\n",
    "### 3. 확률의 의미\n",
    "### 4. 확률의 성질\n",
    "\n",
    "## 02_베이즈 정리\n",
    "\n",
    "### 1. 결합 확률과 조건부 확률\n",
    "### 2. 베이즈 정리\n",
    "### 3. 베이즈 정리와 분류문제\n",
    "### 4. 아들과 딸 파라독스\n",
    "\n",
    "## 03_확률 모형\n",
    "\n",
    "### 1. 확률 모형\n",
    "### 2. 확률 변수\n",
    "### 3. 누적 분포 함수와 확률 밀도 함수\n",
    "### 4. 샘플 평균과 기댓값\n",
    "### 5. 분산과 표준 편차\n",
    "### 6. 모멘트\n",
    "\n",
    "\n"
   ]
  }
 ],
 "metadata": {
  "kernelspec": {
   "display_name": "Python 3",
   "language": "python",
   "name": "python3"
  },
  "language_info": {
   "codemirror_mode": {
    "name": "ipython",
    "version": 3
   },
   "file_extension": ".py",
   "mimetype": "text/x-python",
   "name": "python",
   "nbconvert_exporter": "python",
   "pygments_lexer": "ipython3",
   "version": "3.6.5"
  }
 },
 "nbformat": 4,
 "nbformat_minor": 2
}
