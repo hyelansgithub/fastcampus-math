{
 "cells": [
  {
   "cell_type": "markdown",
   "metadata": {},
   "source": [
    "# 확률론 기초\n",
    "## 01. 확률의 정의와 특성 2. 확률의 수학적 정의"
   ]
  },
  {
   "cell_type": "markdown",
   "metadata": {},
   "source": [
    "확률 표본 / 표본 공간 / 사건 / 확률"
   ]
  },
  {
   "cell_type": "markdown",
   "metadata": {},
   "source": [
    "1. 확률 표본 : sample\n",
    "\n",
    "    - 확률적 문제에서 답이 될 수 있는 하나의 경우\n",
    "    - 확률표본 = 표본 = sample"
   ]
  },
  {
   "cell_type": "markdown",
   "metadata": {},
   "source": [
    "2. 표본 공간 : sample space\n",
    "\n",
    "    - 표본의 집합\n",
    "    - domain knowledge에 따라서 표본 공간이 정해진다. 무엇을 넣고 무엇을 제외시킬지 선택 가능"
   ]
  },
  {
   "cell_type": "markdown",
   "metadata": {},
   "source": [
    "3. 사건 = event = 부분집합 = subset\n",
    "\n",
    "    - 표본공간의 부분집합\n",
    "    - frozenset으로 부분집합 만든다."
   ]
  },
  {
   "cell_type": "code",
   "execution_count": 3,
   "metadata": {},
   "outputs": [
    {
     "data": {
      "text/plain": [
       "{frozenset(),\n",
       " frozenset({'C', 'D'}),\n",
       " frozenset({'C', 'H'}),\n",
       " frozenset({'D', 'H'}),\n",
       " frozenset({'S'}),\n",
       " frozenset({'C', 'S'}),\n",
       " frozenset({'H', 'S'}),\n",
       " frozenset({'D'}),\n",
       " frozenset({'D', 'S'}),\n",
       " frozenset({'D', 'H', 'S'}),\n",
       " frozenset({'C', 'D', 'S'}),\n",
       " frozenset({'H'}),\n",
       " frozenset({'C'}),\n",
       " frozenset({'C', 'D', 'H'}),\n",
       " frozenset({'C', 'H', 'S'}),\n",
       " frozenset({'C', 'D', 'H', 'S'})}"
      ]
     },
     "execution_count": 3,
     "metadata": {},
     "output_type": "execute_result"
    }
   ],
   "source": [
    "# 플레잉카드 한장을 뽑아서 무늬를 결정하는 문제의 표본 공간의 모든 사건을 구하고 이를 frozenset의 set으로 만든다.\n",
    "\n",
    "# 표본 공간 = {'H','S','D','C'}\n",
    "\n",
    "A0 = frozenset([])\n",
    "A1 = frozenset(['H'])\n",
    "A2 = frozenset(['S'])\n",
    "A3 = frozenset(['D'])\n",
    "A4 = frozenset(['C'])\n",
    "A5 = frozenset(['H','S'])\n",
    "A6 = frozenset(['H','D'])\n",
    "A7 = frozenset(['H','C'])\n",
    "A8 = frozenset(['S','D'])\n",
    "A9 = frozenset(['S','C'])\n",
    "A10 = frozenset(['D','C'])\n",
    "A11 = frozenset(['H','S','D'])\n",
    "A12 = frozenset(['H','S','C'])\n",
    "A13 = frozenset(['S','D','C'])\n",
    "A14 = frozenset(['H','D','C'])\n",
    "A15 = frozenset(['H','S','D','C'])\n",
    "\n",
    "A = set([A0, A1, A2, A3, A4, A5, A6, A7, A8, A9, A10, A11, A12, A13, A14, A15])\n",
    "\n",
    "A"
   ]
  },
  {
   "cell_type": "markdown",
   "metadata": {},
   "source": [
    "4. 확률 : probablity\n",
    "\n",
    "    - 사건에 숫자가 출력되는 함수, P로 나타낸다.\n",
    "    - 콜모고로프의 공리에 의해 3가지 규칙을 가진다.\n",
    "        - 실수, P(A) >= 0\n",
    "        - 표본공간이란 사건의 확률은 1\n",
    "        - 공통 원소가 없는 두 사건의 합집합의 확률은 각각 사건의 확률 합과 같다\n",
    "    - 딕셔너리로 구현한다."
   ]
  }
 ],
 "metadata": {
  "kernelspec": {
   "display_name": "Python 3",
   "language": "python",
   "name": "python3"
  },
  "language_info": {
   "codemirror_mode": {
    "name": "ipython",
    "version": 3
   },
   "file_extension": ".py",
   "mimetype": "text/x-python",
   "name": "python",
   "nbconvert_exporter": "python",
   "pygments_lexer": "ipython3",
   "version": "3.6.5"
  }
 },
 "nbformat": 4,
 "nbformat_minor": 2
}
