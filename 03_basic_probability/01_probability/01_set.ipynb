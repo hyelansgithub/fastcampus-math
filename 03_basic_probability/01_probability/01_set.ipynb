{
 "cells": [
  {
   "cell_type": "markdown",
   "metadata": {},
   "source": [
    "# 확률론 기초\n",
    "## 01장. 확률의 정의와 특성    1. 집합"
   ]
  },
  {
   "cell_type": "markdown",
   "metadata": {},
   "source": [
    "#### 1. 집합과 원소\n",
    "\n",
    "- 집합 : 구별가능한 객체의 모임\n",
    "- 원소 : 집합에 포함된 객체, 숫자일 필요없다. 구별만 가능하면 됨"
   ]
  },
  {
   "cell_type": "code",
   "execution_count": 3,
   "metadata": {},
   "outputs": [
    {
     "data": {
      "text/plain": [
       "({1, 2}, frozenset({'H', 'T'}))"
      ]
     },
     "execution_count": 3,
     "metadata": {},
     "output_type": "execute_result"
    }
   ],
   "source": [
    "# set, frozenset : 집합을 만드는 2가지 방법\n",
    "\n",
    "A = set([1,2]) # mutable\n",
    "B = frozenset(['H','T']) # immutable, hashable\n",
    "A, B"
   ]
  },
  {
   "cell_type": "markdown",
   "metadata": {},
   "source": [
    "#### 2. 집합의 크기 Cardinality\n",
    "\n",
    "- 집합이 가지는 원소의 갯수\n",
    "\n",
    "- | A | = card(A)라고 표시\n",
    "\n",
    "- 집합의 원소들이 연속적인 경우 card는 무한대가 된다."
   ]
  },
  {
   "cell_type": "code",
   "execution_count": 4,
   "metadata": {},
   "outputs": [
    {
     "data": {
      "text/plain": [
       "3"
      ]
     },
     "execution_count": 4,
     "metadata": {},
     "output_type": "execute_result"
    }
   ],
   "source": [
    "A = set([1,2,3])\n",
    "len(A)"
   ]
  },
  {
   "cell_type": "markdown",
   "metadata": {},
   "source": [
    "#### 3. 7가지 특수 집합\n",
    "\n",
    "- 합집합(union), 교집합(intersection)\n",
    "\n",
    "- 전체집합, 부분집합(subset)\n",
    "\n",
    "- 차집합(difference), 여집합(complement)\n",
    "\n",
    "- 공집합(nullset)"
   ]
  },
  {
   "cell_type": "code",
   "execution_count": 14,
   "metadata": {},
   "outputs": [
    {
     "data": {
      "text/plain": [
       "({1, 2, 3, 4, 5, 6, 7, 8}, {1, 2, 3, 4, 5, 6, 7, 8}, {4, 5}, {4, 5})"
      ]
     },
     "execution_count": 14,
     "metadata": {},
     "output_type": "execute_result"
    }
   ],
   "source": [
    "# 합집합(union), 교집합(intersection)\n",
    "\n",
    "A = set([1,2,3,4,5])\n",
    "B = set([4,5,6,7,8])\n",
    "\n",
    "A.union(B), A|B, A.intersection(B), A&B"
   ]
  },
  {
   "cell_type": "code",
   "execution_count": 15,
   "metadata": {},
   "outputs": [
    {
     "data": {
      "text/plain": [
       "False"
      ]
     },
     "execution_count": 15,
     "metadata": {},
     "output_type": "execute_result"
    }
   ],
   "source": [
    "# 전체집합, 부분집합(subset)\n",
    "\n",
    "# - 모든 집합은 자기 자신의 부분집합이다.\n",
    "# - 원소의 크기가 더 작은 부분집합은 진부분집합(proper subset)이라고 한다.\n",
    "\n",
    "A.issubset(B)"
   ]
  },
  {
   "cell_type": "code",
   "execution_count": 18,
   "metadata": {},
   "outputs": [
    {
     "data": {
      "text/plain": [
       "({1, 2, 3}, {1, 2, 3})"
      ]
     },
     "execution_count": 18,
     "metadata": {},
     "output_type": "execute_result"
    }
   ],
   "source": [
    "# 차집합(difference), 여집합(complement)\n",
    "\n",
    "A.difference(B), A-B"
   ]
  },
  {
   "cell_type": "code",
   "execution_count": 19,
   "metadata": {},
   "outputs": [
    {
     "data": {
      "text/plain": [
       "set()"
      ]
     },
     "execution_count": 19,
     "metadata": {},
     "output_type": "execute_result"
    }
   ],
   "source": [
    "# 공집합(nullset) : 4가지 특징 외우기\n",
    "\n",
    "nullset = set([])\n",
    "nullset"
   ]
  },
  {
   "cell_type": "markdown",
   "metadata": {},
   "source": [
    "#### 4. 합집합과 교집합의 분배법칙\n",
    "\n",
    "- 합집합과 교집합 분배가능하다"
   ]
  }
 ],
 "metadata": {
  "kernelspec": {
   "display_name": "Python 3",
   "language": "python",
   "name": "python3"
  },
  "language_info": {
   "codemirror_mode": {
    "name": "ipython",
    "version": 3
   },
   "file_extension": ".py",
   "mimetype": "text/x-python",
   "name": "python",
   "nbconvert_exporter": "python",
   "pygments_lexer": "ipython3",
   "version": "3.6.5"
  }
 },
 "nbformat": 4,
 "nbformat_minor": 2
}
